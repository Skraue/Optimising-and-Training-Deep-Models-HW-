{
  "cells": [
    {
      "cell_type": "markdown",
      "metadata": {
        "id": "raUKrVPW0SO1"
      },
      "source": [
        "#**Deep Learning Homework 2: *Optimize and Train Deep Models***\n",
        "### MSc Computer Science, Data Science, Cybersecurity \n",
        "---"
      ]
    },
    {
      "cell_type": "markdown",
      "metadata": {
        "id": "QUc9frYnVBI_"
      },
      "source": [
        "In this homework, we will explore how to develop a simple Deep Neural Network for a classification problem. We will explore two common libraries: TensorFlow and Keras.\n",
        "Then we will explore how to face a well known problem that is common to encounter during the training phase: the Overfitting.\n",
        "Finally, we will study how to perform a fair model selection.\n",
        "Hint: Before starting the exercise take a look at how Tensorflow and Keras are designed.  https://keras.io/"
      ]
    },
    {
      "cell_type": "markdown",
      "metadata": {
        "id": "e-Nc7mFSVEiU"
      },
      "source": [
        "##Exercise 2.1: Text Classficiation with Tensorflow and Keras\n",
        "\n",
        "In this first exercise we will develop a 3 layers Neural Network to perfrom classification.\n",
        "\n",
        "Let's start importing the libraries we will need and setting a couple of environmental variables.\n"
      ]
    },
    {
      "cell_type": "code",
      "execution_count": 1,
      "metadata": {
        "id": "bWn9FzneVqJo"
      },
      "outputs": [],
      "source": [
        "import matplotlib as mpl\n",
        "import matplotlib.pyplot as plt\n",
        "import numpy as np\n",
        "import os\n",
        "import pandas as pd\n",
        "import sklearn\n",
        "import sys\n",
        "import tensorflow as tf\n",
        "from tensorflow import keras  # tf.keras\n",
        "import tensorflow_datasets as tfds\n",
        "import time\n",
        "\n",
        "import logging\n",
        "logging.disable(logging.WARNING)\n",
        "os.environ[\"TF_CPP_MIN_LOG_LEVEL\"] = \"3\" \n",
        "\n",
        "tf.random.set_seed(42)\n",
        "# os.environ['TF_DETERMINISTIC_OPS']='1'"
      ]
    },
    {
      "cell_type": "markdown",
      "metadata": {
        "id": "LT2HMYDEXcx0"
      },
      "source": [
        "### Load Data: AG News Subset\n",
        "\n",
        "In this HW, we use the AG News Subset that is available in Tensorflow Dataset. The AG's news topic classification dataset is constructed by choosing the 4 largest topic classes from a larger news corups. The total number of training samples is 120,000 and testing 7,600. Each class contains 30,000 training samples and 1,900 testing samples. Each sample contains both the title and an excerpt of the article, but in this exercise we will use only the excerpt as input.\n",
        "\n",
        "We will split the training set into two 90%-10% splits in order to have a validation set."
      ]
    },
    {
      "cell_type": "code",
      "execution_count": 3,
      "metadata": {
        "colab": {
          "base_uri": "https://localhost:8080/",
          "height": 321,
          "referenced_widgets": [
            "369967d918b14495adac09813969bb34",
            "6f770deee504480089e615e3ab89ed91",
            "c0f27029d0934705b0803aa944323128",
            "29160dadfaf1415f8f9a8ce8ae7e375b",
            "30f4ed56e0c04d88a4075548b7bd0a73",
            "b25ec09f59cf4042854d845a94785360",
            "aa78e716c07e4e45ab4771e06635053a",
            "c508b33f99864dbd84bfb307c13ff3d5",
            "a4f50fd7ea884d8b8e161f24b647c942",
            "4e64726b6d014f45a991c92620f4e7db",
            "0a8b87530ab24ba2815553343139ec65",
            "a88bbad604f74606861092c7fcc13d65",
            "cd317a90392e4edcaff9616637466046",
            "5eb2db9dbdb24b1cb9f59f3fbe99a9ed",
            "17c08a2ce80f41bb8c76466ba15cd234",
            "91e96c1980fb4c0b90b79deb79e3ad1b",
            "87fd458feceb421fad27a81cb43b5959",
            "16269199c20f4727be3a39aa0f441b5c",
            "deaaaa6d04394a42bb96e82f94b5a2f4",
            "d8209c5e143248db9cd39704c9b5b41b",
            "694400b845a24de88b6b6b1ebdd8e3a3",
            "dd6f9ecaf4c2492b8ee0f11b1d125e2d",
            "9c627dc9b6a8426484dbdf4d988dacab",
            "1bf0c0aed70c4feeb11aa1caa620efaa",
            "fd561d6abe004835813af0b667201ad0",
            "9110e32417794d53a229de9e8367c02c",
            "dfc0092e9a9c43379ddc09b121c26ed6",
            "cb608860a0384dbf906d24ae3b3f5c69",
            "0c96cc2b7ca540e18136929708b01bc5",
            "97be00500fdd459586a4a586c889db15",
            "e644c5d1ba97403ba591a97c9b1dcb9b",
            "4b9b4476b5814e37bc0d27a6037bf117",
            "9eb99ee3bf72470d91847cd4894f12a3",
            "212a0201edff44ce8d947bed3b500bf3",
            "8aeba74bdf9542039fb634b3bb310e56",
            "4e4ecc4f8fa945aa9b682d6effed902a",
            "eff3bf5d92fa4fd0ad9e102bab1d83d2",
            "3c2a97e560fe46508a9046e67cbcfc40",
            "4bd52b4aa67741869cbb8b00851eb3dc",
            "64677141b20f4550819f4fb2905087ae",
            "3d2a1dbca4424d33b9910df6071ebd8b",
            "8a5aff714603496189e97f902515ab90",
            "f93f0ac2db0649979c0b65eed3d7ecdf",
            "616c621c824947f3ace5f1ae84416473",
            "5792b437a86b42faac6c3913b18c0359",
            "09665b8c0f2543fcbb49287bf97169cd",
            "2be9a0b3772c4f39a0bc1cfe2a4d2cd5",
            "793319fbe8ba40be8ae47246a8709a25",
            "3ff1767b62814be68f52a06d3b32e59b",
            "32d8ee8683994c0ab93bd2049a299ca8",
            "1046449aabd54f2c8c7610d15ae1d134",
            "673e5ed5c5c74e49ad93598bb2528667",
            "cea34ddb0f1a48e6838e587f24f62e36",
            "3e27ea9bc01541c4a6974f07406b3efb",
            "627e5d35e80a4a3699ae35f9863434c7",
            "0ab90b17be1c4cc5a9aa67c8fab098eb",
            "24e59b1738544c75a683a96679ccfe34",
            "b69926dc5c5741a8970d34fe17a09732",
            "254a1b6245f84d42a233eea9040d7266",
            "b05ca575cc384b7c9cd4a5575a8f8b97",
            "9e1cd40e14c4466e872d6a82e1315752",
            "3ae1377775c74082a0ec8e5d10b98758",
            "ad9e316e5a824954a6dab4a549cab7d5",
            "e1b6e98d72134cf8a9142814fffed507",
            "0f92e41f716e4070a45ebe741e40414e",
            "f6ea7314d30c44939e37a896acab8c43",
            "1a316d191de844d187508d1c30a308c8",
            "3d4929404cff4bccb6c44d728be5c45c",
            "1321dbb9a75c4929bef51ddae3e0f824",
            "83c66b16f33841bd8ac224e263f2c8d4",
            "0347868cb61c44858d855a147186f92c",
            "68f651c0fa194aef9530e4d438e0e670",
            "de19d20521a343f5a5708db73a01fcc7",
            "a4a298bbcef14a249d2ba8a64dd5cfd4",
            "678f5709df7445b5a9c36b6daf885263",
            "9e17e03f9d0b48e1b7e03b2861694343",
            "eb85b4e2606e4cc79f3e540cc6fa9a78"
          ]
        },
        "id": "d8xZASzs26zD",
        "outputId": "98a795e5-32f6-442a-8014-f567fd7658d7"
      },
      "outputs": [
        {
          "name": "stdout",
          "output_type": "stream",
          "text": [
            "\u001b[1mDownloading and preparing dataset ag_news_subset/1.0.0 (download: 11.24 MiB, generated: 35.79 MiB, total: 47.03 MiB) to /root/tensorflow_datasets/ag_news_subset/1.0.0...\u001b[0m\n"
          ]
        },
        {
          "data": {
            "application/vnd.jupyter.widget-view+json": {
              "model_id": "369967d918b14495adac09813969bb34",
              "version_major": 2,
              "version_minor": 0
            },
            "text/plain": [
              "Dl Completed...: 0 url [00:00, ? url/s]"
            ]
          },
          "metadata": {},
          "output_type": "display_data"
        },
        {
          "data": {
            "application/vnd.jupyter.widget-view+json": {
              "model_id": "a88bbad604f74606861092c7fcc13d65",
              "version_major": 2,
              "version_minor": 0
            },
            "text/plain": [
              "Dl Size...: 0 MiB [00:00, ? MiB/s]"
            ]
          },
          "metadata": {},
          "output_type": "display_data"
        },
        {
          "data": {
            "application/vnd.jupyter.widget-view+json": {
              "model_id": "9c627dc9b6a8426484dbdf4d988dacab",
              "version_major": 2,
              "version_minor": 0
            },
            "text/plain": [
              "Extraction completed...: 0 file [00:00, ? file/s]"
            ]
          },
          "metadata": {},
          "output_type": "display_data"
        },
        {
          "name": "stdout",
          "output_type": "stream",
          "text": [
            "\n",
            "\n",
            "\n"
          ]
        },
        {
          "data": {
            "application/vnd.jupyter.widget-view+json": {
              "model_id": "212a0201edff44ce8d947bed3b500bf3",
              "version_major": 2,
              "version_minor": 0
            },
            "text/plain": [
              "0 examples [00:00, ? examples/s]"
            ]
          },
          "metadata": {},
          "output_type": "display_data"
        },
        {
          "name": "stdout",
          "output_type": "stream",
          "text": [
            "Shuffling and writing examples to /root/tensorflow_datasets/ag_news_subset/1.0.0.incompleteK9JBEK/ag_news_subset-train.tfrecord\n"
          ]
        },
        {
          "data": {
            "application/vnd.jupyter.widget-view+json": {
              "model_id": "5792b437a86b42faac6c3913b18c0359",
              "version_major": 2,
              "version_minor": 0
            },
            "text/plain": [
              "  0%|          | 0/120000 [00:00<?, ? examples/s]"
            ]
          },
          "metadata": {},
          "output_type": "display_data"
        },
        {
          "data": {
            "application/vnd.jupyter.widget-view+json": {
              "model_id": "0ab90b17be1c4cc5a9aa67c8fab098eb",
              "version_major": 2,
              "version_minor": 0
            },
            "text/plain": [
              "0 examples [00:00, ? examples/s]"
            ]
          },
          "metadata": {},
          "output_type": "display_data"
        },
        {
          "name": "stdout",
          "output_type": "stream",
          "text": [
            "Shuffling and writing examples to /root/tensorflow_datasets/ag_news_subset/1.0.0.incompleteK9JBEK/ag_news_subset-test.tfrecord\n"
          ]
        },
        {
          "data": {
            "application/vnd.jupyter.widget-view+json": {
              "model_id": "1a316d191de844d187508d1c30a308c8",
              "version_major": 2,
              "version_minor": 0
            },
            "text/plain": [
              "  0%|          | 0/7600 [00:00<?, ? examples/s]"
            ]
          },
          "metadata": {},
          "output_type": "display_data"
        },
        {
          "name": "stdout",
          "output_type": "stream",
          "text": [
            "\u001b[1mDataset ag_news_subset downloaded and prepared to /root/tensorflow_datasets/ag_news_subset/1.0.0. Subsequent calls will reuse this data.\u001b[0m\n"
          ]
        }
      ],
      "source": [
        "### NOTE ### \n",
        "# running this cell might yield download-related errors.\n",
        "# just repeating the execution a couple of times should solve the error.\n",
        "\n",
        "train_ds, valid_ds, test_ds = tfds.load('ag_news_subset',\n",
        "                                        as_supervised=True, # return a set of (text, label) tuples \n",
        "                                        split=['train[:90%]', 'train[-10%:]', 'test'],\n",
        "                                        batch_size=-1)  \n",
        "                                        # ^ using batch_size=-1 returns Tensors instead of Dataset objects"
      ]
    },
    {
      "cell_type": "code",
      "execution_count": 4,
      "metadata": {
        "id": "BYkXCTv3NrvC"
      },
      "outputs": [],
      "source": [
        "# Tensors have two elements, data and labels; let's split them\n",
        "# so we can transform the data\n",
        "X_train, y_train = train_ds\n",
        "X_valid, y_valid = valid_ds\n",
        "X_test, y_test = test_ds"
      ]
    },
    {
      "cell_type": "markdown",
      "metadata": {
        "id": "8prUBtqq8JW7"
      },
      "source": [
        "The AG News Subset dataset consists in news articles, each one composed by a sequence of words. In order to encode each article in a single tensor with a fixed number of elements, we will use multi-hot encoding. For testing purposes, we will only consider the first 10,000  most common words. Multi-hot-encoding our lists means turning them into vectors of 0s and 1s. Concretely, this would mean for instance turning the sequence [3, 5] into a 10,000-dimensional vector that would be all-zeros except for indices 3 and 5, which would be ones. The obtained input representation indicates which words are present (at least one time) in the sentence."
      ]
    },
    {
      "cell_type": "code",
      "execution_count": 5,
      "metadata": {
        "id": "Brt087tDIDpe"
      },
      "outputs": [],
      "source": [
        "num_words = 1000\n",
        "vectorize_layer = tf.keras.layers.TextVectorization(\n",
        " max_tokens=num_words,\n",
        " standardize=\"lower_and_strip_punctuation\",\n",
        " split=\"whitespace\",\n",
        " output_mode='multi_hot',\n",
        " pad_to_max_tokens=True)\n",
        "\n",
        "vectorize_layer.adapt(X_train)"
      ]
    },
    {
      "cell_type": "code",
      "execution_count": 6,
      "metadata": {
        "id": "seuFLH2lNiDT"
      },
      "outputs": [],
      "source": [
        "X_train = vectorize_layer(X_train)\n",
        "X_valid = vectorize_layer(X_valid)\n",
        "X_test  = vectorize_layer(X_test)"
      ]
    },
    {
      "cell_type": "markdown",
      "metadata": {
        "id": "jGUg8TexZMNf"
      },
      "source": [
        "### Define the model:\n",
        "\n",
        "Let's build a Sequential model (`keras.models.Sequential`) and add four layers to it by calling its `add()` method:\n",
        "\n",
        "\n",
        "*   a input layer (`tf.keras.Input`) that is the first layer in your model. With this layer you should specify the `input_shape` argument, leaving out the batch size: `(num_words,)`;\n",
        "*  a Dense layer (`keras.layers.Dense`) with 16 neurons, and the \"relu\" activation function;\n",
        "* another Dense layer with 16 neurons, also with the \"relu\" activation function;\n",
        "* a final Dense layer with 4 output neurons, and with the \"softmax\" activation (since we considering a classification task with four classes)."
      ]
    },
    {
      "cell_type": "code",
      "execution_count": 7,
      "metadata": {
        "id": "OaoEISyaZL56"
      },
      "outputs": [],
      "source": [
        "model = keras.models.Sequential()\n",
        "model.add(tf.keras.Input(shape=(num_words,)))\n",
        "model.add(keras.layers.Dense(16, activation=\"relu\"))\n",
        "model.add(keras.layers.Dense(16, activation=\"relu\"))\n",
        "model.add(keras.layers.Dense(4, activation=\"softmax\"))"
      ]
    },
    {
      "cell_type": "markdown",
      "metadata": {
        "id": "fYfxUOQVZljh"
      },
      "source": [
        "Call the model's `summary()` method to check if the model has been built correctly. Also, try using `keras.utils.plot_model()` to save an image of your model's architecture."
      ]
    },
    {
      "cell_type": "code",
      "execution_count": 8,
      "metadata": {
        "colab": {
          "base_uri": "https://localhost:8080/"
        },
        "id": "IpGkQl5dZoWq",
        "outputId": "995ac3df-e4f4-4676-f1a2-bd4645ae34c4"
      },
      "outputs": [
        {
          "name": "stdout",
          "output_type": "stream",
          "text": [
            "Model: \"sequential\"\n",
            "_________________________________________________________________\n",
            " Layer (type)                Output Shape              Param #   \n",
            "=================================================================\n",
            " dense (Dense)               (None, 16)                16016     \n",
            "                                                                 \n",
            " dense_1 (Dense)             (None, 16)                272       \n",
            "                                                                 \n",
            " dense_2 (Dense)             (None, 4)                 68        \n",
            "                                                                 \n",
            "=================================================================\n",
            "Total params: 16,356\n",
            "Trainable params: 16,356\n",
            "Non-trainable params: 0\n",
            "_________________________________________________________________\n"
          ]
        }
      ],
      "source": [
        "model.summary()"
      ]
    },
    {
      "cell_type": "code",
      "execution_count": 9,
      "metadata": {
        "colab": {
          "base_uri": "https://localhost:8080/",
          "height": 422
        },
        "id": "b1NbkrXRZwOA",
        "outputId": "6be55362-b2f9-4274-e24b-a0ebf9659614"
      },
      "outputs": [
        {
          "data": {
            "image/png": "[encoded data removed]",
            "text/plain": [
              "<IPython.core.display.Image object>"
            ]
          },
          "execution_count": 9,
          "metadata": {},
          "output_type": "execute_result"
        }
      ],
      "source": [
        "keras.utils.plot_model(model, \"my_model.png\", show_shapes=True)"
      ]
    },
    {
      "cell_type": "markdown",
      "metadata": {
        "id": "Mc3xzuA-33WH"
      },
      "source": [
        "As you can see, the first dimension of each layer is not defined (`None`), indeed this dimension in each layer is variable and depends on the batch size."
      ]
    },
    {
      "cell_type": "markdown",
      "metadata": {
        "id": "6FAjFixuHSA_"
      },
      "source": [
        "Instaed of using `add()` method it is also possibile to define the model using the following syntax"
      ]
    },
    {
      "cell_type": "code",
      "execution_count": 10,
      "metadata": {
        "colab": {
          "base_uri": "https://localhost:8080/",
          "height": 688
        },
        "id": "yOhr57M9GPHy",
        "outputId": "1e7564dc-11ed-4fd7-fe3b-83875398306e"
      },
      "outputs": [
        {
          "name": "stdout",
          "output_type": "stream",
          "text": [
            "Model: \"sequential_1\"\n",
            "_________________________________________________________________\n",
            " Layer (type)                Output Shape              Param #   \n",
            "=================================================================\n",
            " dense_3 (Dense)             (None, 16)                16016     \n",
            "                                                                 \n",
            " dense_4 (Dense)             (None, 16)                272       \n",
            "                                                                 \n",
            " dense_5 (Dense)             (None, 4)                 68        \n",
            "                                                                 \n",
            "=================================================================\n",
            "Total params: 16,356\n",
            "Trainable params: 16,356\n",
            "Non-trainable params: 0\n",
            "_________________________________________________________________\n"
          ]
        },
        {
          "data": {
            "image/png": "[encoded data removed]",
            "text/plain": [
              "<IPython.core.display.Image object>"
            ]
          },
          "execution_count": 10,
          "metadata": {},
          "output_type": "execute_result"
        }
      ],
      "source": [
        "model = keras.models.Sequential([\n",
        "    tf.keras.Input(shape=(num_words,)),\n",
        "    keras.layers.Dense(16, activation=\"relu\"),\n",
        "    keras.layers.Dense(16, activation=\"relu\"),\n",
        "    keras.layers.Dense(4, activation=\"softmax\")\n",
        "])\n",
        "model.summary()\n",
        "keras.utils.plot_model(model, \"my_model.png\", show_shapes=True)"
      ]
    },
    {
      "cell_type": "markdown",
      "metadata": {
        "id": "2ySdJmzxaSuz"
      },
      "source": [
        "### Optimize the model:\n",
        "\n",
        "After the model has been created, you must call its `compile()` method to specify the loss function and the optimizer to use.\n",
        "\n",
        "Since the model performs a classification task, and we have labels encoded as integers, we use the sparse categorical cross-entropy loss. As optimizer we use Adam.\n",
        "\n",
        "Moreover, you can optionally specify a list of additional metrics that should be measured during training. In this case we specify `metrics=[\"accuracy\"]`."
      ]
    },
    {
      "cell_type": "code",
      "execution_count": 11,
      "metadata": {
        "id": "x3bbsY3uaeh5"
      },
      "outputs": [],
      "source": [
        "model.compile(loss=\"sparse_categorical_crossentropy\",\n",
        "              optimizer=keras.optimizers.Adam(learning_rate=1e-4),\n",
        "              metrics=[\"accuracy\"])"
      ]
    },
    {
      "cell_type": "markdown",
      "metadata": {
        "id": "NB9SV0MpaeTg"
      },
      "source": [
        "Now our model is ready to be trained. Call its `fit()` method, passing to it the input features (`X_train`) and the target classes (`y_train`). Set the number of epochs to 20. \n",
        "In order to validate our model we will also pass the validation data by setting `validation_data=(X_valid, y_valid)`. Keras will compute the loss and the additional metrics (the accuracy in this case) on the validation set at the end of each epoch. If the loss on the training set is much lower than the one on the validation set, your model is probably overfitting the training set. Note: the `fit()` method will return a `History` object containing training stats."
      ]
    },
    {
      "cell_type": "code",
      "execution_count": 12,
      "metadata": {
        "colab": {
          "base_uri": "https://localhost:8080/"
        },
        "id": "5whx-LU3aoKn",
        "outputId": "a85583fa-1022-4590-87d7-c84ce48b74ee"
      },
      "outputs": [
        {
          "name": "stdout",
          "output_type": "stream",
          "text": [
            "Epoch 1/20\n",
            "3375/3375 [==============================] - 7s 2ms/step - loss: 0.8503 - accuracy: 0.6761 - val_loss: 0.5107 - val_accuracy: 0.8314\n",
            "Epoch 2/20\n",
            "3375/3375 [==============================] - 7s 2ms/step - loss: 0.4583 - accuracy: 0.8449 - val_loss: 0.4452 - val_accuracy: 0.8475\n",
            "Epoch 3/20\n",
            "3375/3375 [==============================] - 7s 2ms/step - loss: 0.4222 - accuracy: 0.8546 - val_loss: 0.4318 - val_accuracy: 0.8507\n",
            "Epoch 4/20\n",
            "3375/3375 [==============================] - 7s 2ms/step - loss: 0.4089 - accuracy: 0.8573 - val_loss: 0.4241 - val_accuracy: 0.8509\n",
            "Epoch 5/20\n",
            "3375/3375 [==============================] - 6s 2ms/step - loss: 0.4012 - accuracy: 0.8590 - val_loss: 0.4210 - val_accuracy: 0.8525\n",
            "Epoch 6/20\n",
            "3375/3375 [==============================] - 7s 2ms/step - loss: 0.3959 - accuracy: 0.8601 - val_loss: 0.4175 - val_accuracy: 0.8531\n",
            "Epoch 7/20\n",
            "3375/3375 [==============================] - 6s 2ms/step - loss: 0.3917 - accuracy: 0.8615 - val_loss: 0.4149 - val_accuracy: 0.8535\n",
            "Epoch 8/20\n",
            "3375/3375 [==============================] - 6s 2ms/step - loss: 0.3882 - accuracy: 0.8617 - val_loss: 0.4132 - val_accuracy: 0.8550\n",
            "Epoch 9/20\n",
            "3375/3375 [==============================] - 6s 2ms/step - loss: 0.3851 - accuracy: 0.8627 - val_loss: 0.4109 - val_accuracy: 0.8540\n",
            "Epoch 10/20\n",
            "3375/3375 [==============================] - 7s 2ms/step - loss: 0.3825 - accuracy: 0.8629 - val_loss: 0.4096 - val_accuracy: 0.8534\n",
            "Epoch 11/20\n",
            "3375/3375 [==============================] - 6s 2ms/step - loss: 0.3799 - accuracy: 0.8637 - val_loss: 0.4081 - val_accuracy: 0.8539\n",
            "Epoch 12/20\n",
            "3375/3375 [==============================] - 6s 2ms/step - loss: 0.3775 - accuracy: 0.8638 - val_loss: 0.4064 - val_accuracy: 0.8543\n",
            "Epoch 13/20\n",
            "3375/3375 [==============================] - 7s 2ms/step - loss: 0.3753 - accuracy: 0.8645 - val_loss: 0.4051 - val_accuracy: 0.8538\n",
            "Epoch 14/20\n",
            "3375/3375 [==============================] - 6s 2ms/step - loss: 0.3731 - accuracy: 0.8649 - val_loss: 0.4053 - val_accuracy: 0.8543\n",
            "Epoch 15/20\n",
            "3375/3375 [==============================] - 6s 2ms/step - loss: 0.3709 - accuracy: 0.8660 - val_loss: 0.4035 - val_accuracy: 0.8553\n",
            "Epoch 16/20\n",
            "3375/3375 [==============================] - 6s 2ms/step - loss: 0.3689 - accuracy: 0.8661 - val_loss: 0.4027 - val_accuracy: 0.8553\n",
            "Epoch 17/20\n",
            "3375/3375 [==============================] - 7s 2ms/step - loss: 0.3669 - accuracy: 0.8668 - val_loss: 0.4011 - val_accuracy: 0.8565\n",
            "Epoch 18/20\n",
            "3375/3375 [==============================] - 7s 2ms/step - loss: 0.3649 - accuracy: 0.8672 - val_loss: 0.4003 - val_accuracy: 0.8554\n",
            "Epoch 19/20\n",
            "3375/3375 [==============================] - 7s 2ms/step - loss: 0.3630 - accuracy: 0.8679 - val_loss: 0.3992 - val_accuracy: 0.8559\n",
            "Epoch 20/20\n",
            "3375/3375 [==============================] - 7s 2ms/step - loss: 0.3612 - accuracy: 0.8684 - val_loss: 0.3993 - val_accuracy: 0.8564\n"
          ]
        }
      ],
      "source": [
        "history = model.fit(X_train, y_train, epochs=20,\n",
        "                    validation_data=(X_valid, y_valid))"
      ]
    },
    {
      "cell_type": "markdown",
      "metadata": {
        "id": "EPxiw8iCADr-"
      },
      "source": [
        "Let's plot the loss and the accuracy trends on both training and validation sets. We define the `plot_learning_acc_and_loss` function because we will reuse it in the next steps."
      ]
    },
    {
      "cell_type": "code",
      "execution_count": 13,
      "metadata": {
        "colab": {
          "base_uri": "https://localhost:8080/",
          "height": 320
        },
        "id": "AJg-F7mUa7st",
        "outputId": "d4bfc2b0-b7b2-49d4-db53-f7545ba9e8c9"
      },
      "outputs": [
        {
          "data": {
            "image/png": "[encoded data removed]",
            "text/plain": [
              "<Figure size 576x360 with 1 Axes>"
            ]
          },
          "metadata": {
            "needs_background": "light"
          },
          "output_type": "display_data"
        }
      ],
      "source": [
        "def plot_learning_acc_and_loss(history):\n",
        "    pd.DataFrame(history.history).plot(figsize=(8, 5))\n",
        "    plt.grid(True)\n",
        "    plt.show()\n",
        "plot_learning_acc_and_loss(history)"
      ]
    },
    {
      "cell_type": "markdown",
      "metadata": {
        "id": "9O3-sLmxansJ"
      },
      "source": [
        "### [TO COMPLETE] Evaluate the model:\n",
        "\n",
        "Now, our model has been optimized on the training set, and as you can see the performance on the validation set in quite similar (so it does not overfit the training data). Let's now evaluate the performance of our model using the test set."
      ]
    },
    {
      "cell_type": "code",
      "execution_count": 14,
      "metadata": {
        "colab": {
          "base_uri": "https://localhost:8080/"
        },
        "id": "q-ZvJEcObdyB",
        "outputId": "7dd35909-a434-406a-cea8-0e702630f13c"
      },
      "outputs": [
        {
          "name": "stdout",
          "output_type": "stream",
          "text": [
            "238/238 [==============================] - 1s 2ms/step - loss: 0.4093 - accuracy: 0.8521\n"
          ]
        },
        {
          "data": {
            "text/plain": [
              "[0.40926671028137207, 0.8521052598953247]"
            ]
          },
          "execution_count": 14,
          "metadata": {},
          "output_type": "execute_result"
        }
      ],
      "source": [
        "model.evaluate(X_test, y_test)"
      ]
    },
    {
      "cell_type": "markdown",
      "metadata": {
        "id": "ddN-rIyI9VXu"
      },
      "source": []
    },
    {
      "cell_type": "markdown",
      "metadata": {
        "id": "KTSxlnwrII-n"
      },
      "source": [
        "[TO COMPLETE] Explain why it is important to use test and validation, and why it is important to evaluate the model on the test set instead of the validation set. Finally, explain what is the usefulness of the validation set. Insert the discussion in this cell.\n",
        "\n",
        "Answer: It's important to use test and validation data in order to gain an understanding of the model's accuracy as well as make adjustments to the model parameters to improve the model's performance. \n",
        "\n",
        "The validation data is useful in helping to distinguish the model parameters and adjust them accordingly during the model training. This uselful in helping to prevent model overfitting. \n",
        "\n",
        "It is important to evaluate the model on the test set because this data was not used for training the model. Therefore the effeciency metrics provided by the testing data are not biased and can be used to check if there is evidence of model overfitting. "
      ]
    },
    {
      "cell_type": "markdown",
      "metadata": {
        "id": "aeGlzKe864Gq"
      },
      "source": [
        "## [TO COMPLETE] Exercise 2.2: Overfiting\n",
        "\n",
        "A common problem that occurs when you train a deep neural network is overfittig. Overfitting occurs when you achieve a good fit of your model on the training data, while it does not generalize well on new, unseen data. In other words, the model learned patterns specific to the training data, which are irrelevant in other data.\n",
        "As we have seen in the previous exercise, our model does not overfit the training data. In this exercise, we try to modify the training parameters in order to have a model that overfits.\n",
        "Overfitting can have many causes and usually is a combination of some of them, for instance: too many parameters/ layers, too few training samples, wrong learning rate (usualy too high), etc..\n",
        "\n",
        "[TO COMPLETE] In the next cell define a new model (similar to the previuos one) that overfits the training data; then plot the trend of the loss in training and validation set."
      ]
    },
    {
      "cell_type": "code",
      "execution_count": 15,
      "metadata": {
        "colab": {
          "base_uri": "https://localhost:8080/"
        },
        "id": "T2B2DFEC8f88",
        "outputId": "e0fa443c-33bd-4b02-cba6-c9ee80b06030"
      },
      "outputs": [
        {
          "name": "stdout",
          "output_type": "stream",
          "text": [
            "Model: \"sequential_3\"\n",
            "_________________________________________________________________\n",
            " Layer (type)                Output Shape              Param #   \n",
            "=================================================================\n",
            " dense_6 (Dense)             (None, 20)                20020     \n",
            "                                                                 \n",
            " dense_7 (Dense)             (None, 20)                420       \n",
            "                                                                 \n",
            " dense_8 (Dense)             (None, 4)                 84        \n",
            "                                                                 \n",
            "=================================================================\n",
            "Total params: 20,524\n",
            "Trainable params: 20,524\n",
            "Non-trainable params: 0\n",
            "_________________________________________________________________\n",
            "Epoch 1/20\n",
            "3375/3375 [==============================] - 7s 2ms/step - loss: 0.4775 - accuracy: 0.8254 - val_loss: 0.4191 - val_accuracy: 0.8501\n",
            "Epoch 2/20\n",
            "3375/3375 [==============================] - 7s 2ms/step - loss: 0.3984 - accuracy: 0.8550 - val_loss: 0.4059 - val_accuracy: 0.8512\n",
            "Epoch 3/20\n",
            "3375/3375 [==============================] - 14s 4ms/step - loss: 0.3768 - accuracy: 0.8614 - val_loss: 0.3960 - val_accuracy: 0.8558\n",
            "Epoch 4/20\n",
            "3375/3375 [==============================] - 12s 3ms/step - loss: 0.3594 - accuracy: 0.8669 - val_loss: 0.3950 - val_accuracy: 0.8551\n",
            "Epoch 5/20\n",
            "3375/3375 [==============================] - 7s 2ms/step - loss: 0.3446 - accuracy: 0.8731 - val_loss: 0.3915 - val_accuracy: 0.8564\n",
            "Epoch 6/20\n",
            "3375/3375 [==============================] - 10s 3ms/step - loss: 0.3312 - accuracy: 0.8783 - val_loss: 0.3953 - val_accuracy: 0.8561\n",
            "Epoch 7/20\n",
            "3375/3375 [==============================] - 7s 2ms/step - loss: 0.3196 - accuracy: 0.8818 - val_loss: 0.4035 - val_accuracy: 0.8524\n",
            "Epoch 8/20\n",
            "3375/3375 [==============================] - 7s 2ms/step - loss: 0.3098 - accuracy: 0.8858 - val_loss: 0.3986 - val_accuracy: 0.8562\n",
            "Epoch 9/20\n",
            "3375/3375 [==============================] - 7s 2ms/step - loss: 0.3004 - accuracy: 0.8897 - val_loss: 0.4062 - val_accuracy: 0.8537\n",
            "Epoch 10/20\n",
            "3375/3375 [==============================] - 7s 2ms/step - loss: 0.2930 - accuracy: 0.8926 - val_loss: 0.4127 - val_accuracy: 0.8543\n",
            "Epoch 11/20\n",
            "3375/3375 [==============================] - 7s 2ms/step - loss: 0.2863 - accuracy: 0.8941 - val_loss: 0.4211 - val_accuracy: 0.8512\n",
            "Epoch 12/20\n",
            "3375/3375 [==============================] - 7s 2ms/step - loss: 0.2799 - accuracy: 0.8973 - val_loss: 0.4240 - val_accuracy: 0.8528\n",
            "Epoch 13/20\n",
            "3375/3375 [==============================] - 7s 2ms/step - loss: 0.2743 - accuracy: 0.8991 - val_loss: 0.4303 - val_accuracy: 0.8516\n",
            "Epoch 14/20\n",
            "3375/3375 [==============================] - 7s 2ms/step - loss: 0.2686 - accuracy: 0.9018 - val_loss: 0.4420 - val_accuracy: 0.8509\n",
            "Epoch 15/20\n",
            "3375/3375 [==============================] - 7s 2ms/step - loss: 0.2639 - accuracy: 0.9030 - val_loss: 0.4454 - val_accuracy: 0.8503\n",
            "Epoch 16/20\n",
            "3375/3375 [==============================] - 7s 2ms/step - loss: 0.2598 - accuracy: 0.9055 - val_loss: 0.4535 - val_accuracy: 0.8482\n",
            "Epoch 17/20\n",
            "3375/3375 [==============================] - 7s 2ms/step - loss: 0.2554 - accuracy: 0.9063 - val_loss: 0.4697 - val_accuracy: 0.8478\n",
            "Epoch 18/20\n",
            "3375/3375 [==============================] - 7s 2ms/step - loss: 0.2514 - accuracy: 0.9080 - val_loss: 0.4662 - val_accuracy: 0.8470\n",
            "Epoch 19/20\n",
            "3375/3375 [==============================] - 7s 2ms/step - loss: 0.2481 - accuracy: 0.9101 - val_loss: 0.4710 - val_accuracy: 0.8466\n",
            "Epoch 20/20\n",
            "3375/3375 [==============================] - 7s 2ms/step - loss: 0.2444 - accuracy: 0.9111 - val_loss: 0.4837 - val_accuracy: 0.8440\n",
            "Model Evaluation\n",
            "238/238 [==============================] - 1s 2ms/step - loss: 0.4791 - accuracy: 0.8430\n"
          ]
        },
        {
          "data": {
            "text/plain": [
              "[0.4790787994861603, 0.843026340007782]"
            ]
          },
          "execution_count": 15,
          "metadata": {},
          "output_type": "execute_result"
        }
      ],
      "source": [
        "model = keras.models.Sequential()\n",
        "#[TO COMPLETE] modify the previuos model in order to obtain a new model that overfits the training data\n",
        "model = keras.models.Sequential()\n",
        "model.add(tf.keras.Input(shape=(num_words,)))\n",
        "model.add(keras.layers.Dense(20, activation=\"relu\"))\n",
        "model.add(keras.layers.Dense(20, activation=\"relu\"))\n",
        "model.add(keras.layers.Dense(4, activation=\"softmax\"))\n",
        "\n",
        "model.summary()\n",
        "keras.utils.plot_model(model, \"my_model.png\", show_shapes=True)\n",
        "\n",
        "model.compile(loss=\"sparse_categorical_crossentropy\",\n",
        "              optimizer=keras.optimizers.Adam(learning_rate=1e-3),#[TO COMPLETE] learning rate\n",
        "              metrics=[\"accuracy\"])\n",
        "\n",
        "history = model.fit(X_train, y_train, epochs=20,#[TO COMPLETE] epochs\n",
        "                    validation_data=(X_valid, y_valid))\n",
        "\n",
        "print(\"Model Evaluation\")\n",
        "model.evaluate(X_test, y_test)"
      ]
    },
    {
      "cell_type": "markdown",
      "metadata": {
        "id": "MS0fujEqh_m3"
      },
      "source": [
        "Define the `plot_learning_curves` function that plots only the losses (not the accuracy)."
      ]
    },
    {
      "cell_type": "code",
      "execution_count": 16,
      "metadata": {
        "colab": {
          "base_uri": "https://localhost:8080/",
          "height": 336
        },
        "id": "q5EsklC0DZYH",
        "outputId": "bf5da94b-6dbd-4067-c063-b36766e86fc3"
      },
      "outputs": [
        {
          "data": {
            "image/png": "[encoded data removed]",
            "text/plain": [
              "<Figure size 576x360 with 1 Axes>"
            ]
          },
          "metadata": {
            "needs_background": "light"
          },
          "output_type": "display_data"
        }
      ],
      "source": [
        "def plot_learning_curves(history):\n",
        "    plt.figure(figsize=(8, 5))\n",
        "    plt.plot(history.epoch,history.history['loss'], label='train loss')\n",
        "    plt.plot(history.epoch,history.history['val_loss'], label='valid loss')\n",
        "    plt.legend()\n",
        "    plt.title('loss')\n",
        "    plt.grid(True)\n",
        "    plt.show()\n",
        "plot_learning_curves(history)"
      ]
    },
    {
      "cell_type": "markdown",
      "metadata": {
        "id": "OW4Kf4fgDfOs"
      },
      "source": [
        "### [TO COMPLETE] L1 norm\n",
        "\n",
        "One possible way to solve the overitting issue is by using regularization methods. The two most common regularization methods in Deep Learning are the L1-norm regularization and the L2-norm regularization. Both These techniques are based on limiting the capacity of models, by adding a parameter norm penalty to the objective function $\\mathcal{J}$:\n",
        "$$\n",
        "\\hat{\\mathcal{J}}(\\theta,\\mathbf{X},\\mathbf{y}) = \\mathcal{J}(\\theta,\\mathbf{X},\\mathbf{y}) + \\alpha \\Omega(\\theta)\n",
        "$$\n",
        "where $\\alpha$ is a hyperparameter that weighs the relative contribution of the norm penalty $\\Omega$.\n",
        "Lets start by considering the L1-norm regularization where the regularization term is defined as:\n",
        "$$\n",
        " \\Omega(\\theta)=||\\mathbf{W}||_1=\\sum_i |\\mathbf{w}|\n",
        "$$\n",
        "Let's find the values for the $\\alpha$ parameters that allow to remove the overfitting effect."
      ]
    },
    {
      "cell_type": "code",
      "execution_count": 17,
      "metadata": {
        "colab": {
          "base_uri": "https://localhost:8080/",
          "height": 1000
        },
        "id": "QzD8520dDgw3",
        "outputId": "019ee051-5706-48e5-cb1b-e37f5faaf5dc"
      },
      "outputs": [
        {
          "name": "stdout",
          "output_type": "stream",
          "text": [
            "Epoch 1/20\n",
            "3375/3375 [==============================] - 8s 2ms/step - loss: 1.5019 - accuracy: 0.2535 - val_loss: 1.4093 - val_accuracy: 0.2432\n",
            "Epoch 2/20\n",
            "3375/3375 [==============================] - 7s 2ms/step - loss: 1.4091 - accuracy: 0.2480 - val_loss: 1.4093 - val_accuracy: 0.2484\n",
            "Epoch 3/20\n",
            "3375/3375 [==============================] - 7s 2ms/step - loss: 1.4091 - accuracy: 0.2494 - val_loss: 1.4091 - val_accuracy: 0.2432\n",
            "Epoch 4/20\n",
            "3375/3375 [==============================] - 7s 2ms/step - loss: 1.4091 - accuracy: 0.2499 - val_loss: 1.4092 - val_accuracy: 0.2484\n",
            "Epoch 5/20\n",
            "3375/3375 [==============================] - 7s 2ms/step - loss: 1.4091 - accuracy: 0.2482 - val_loss: 1.4090 - val_accuracy: 0.2432\n",
            "Epoch 6/20\n",
            "3375/3375 [==============================] - 7s 2ms/step - loss: 1.4091 - accuracy: 0.2487 - val_loss: 1.4092 - val_accuracy: 0.2484\n",
            "Epoch 7/20\n",
            "3375/3375 [==============================] - 7s 2ms/step - loss: 1.4091 - accuracy: 0.2504 - val_loss: 1.4090 - val_accuracy: 0.2512\n",
            "Epoch 8/20\n",
            "3375/3375 [==============================] - 7s 2ms/step - loss: 1.4091 - accuracy: 0.2493 - val_loss: 1.4090 - val_accuracy: 0.2512\n",
            "Epoch 9/20\n",
            "3375/3375 [==============================] - 7s 2ms/step - loss: 1.4091 - accuracy: 0.2492 - val_loss: 1.4087 - val_accuracy: 0.2571\n",
            "Epoch 10/20\n",
            "3375/3375 [==============================] - 7s 2ms/step - loss: 1.4091 - accuracy: 0.2498 - val_loss: 1.4090 - val_accuracy: 0.2571\n",
            "Epoch 11/20\n",
            "3375/3375 [==============================] - 7s 2ms/step - loss: 1.4091 - accuracy: 0.2494 - val_loss: 1.4090 - val_accuracy: 0.2484\n",
            "Epoch 12/20\n",
            "3375/3375 [==============================] - 7s 2ms/step - loss: 1.4091 - accuracy: 0.2496 - val_loss: 1.4092 - val_accuracy: 0.2512\n",
            "Epoch 13/20\n",
            "3375/3375 [==============================] - 7s 2ms/step - loss: 1.4091 - accuracy: 0.2486 - val_loss: 1.4092 - val_accuracy: 0.2512\n",
            "Epoch 14/20\n",
            "3375/3375 [==============================] - 7s 2ms/step - loss: 1.4091 - accuracy: 0.2508 - val_loss: 1.4093 - val_accuracy: 0.2432\n",
            "Epoch 15/20\n",
            "3375/3375 [==============================] - 7s 2ms/step - loss: 1.4091 - accuracy: 0.2503 - val_loss: 1.4090 - val_accuracy: 0.2432\n",
            "Epoch 16/20\n",
            "3375/3375 [==============================] - 7s 2ms/step - loss: 1.4091 - accuracy: 0.2501 - val_loss: 1.4091 - val_accuracy: 0.2432\n",
            "Epoch 17/20\n",
            "3375/3375 [==============================] - 7s 2ms/step - loss: 1.4091 - accuracy: 0.2509 - val_loss: 1.4092 - val_accuracy: 0.2484\n",
            "Epoch 18/20\n",
            "3375/3375 [==============================] - 7s 2ms/step - loss: 1.4091 - accuracy: 0.2506 - val_loss: 1.4091 - val_accuracy: 0.2432\n",
            "Epoch 19/20\n",
            "3375/3375 [==============================] - 7s 2ms/step - loss: 1.4091 - accuracy: 0.2493 - val_loss: 1.4091 - val_accuracy: 0.2432\n",
            "Epoch 20/20\n",
            "3375/3375 [==============================] - 7s 2ms/step - loss: 1.4091 - accuracy: 0.2488 - val_loss: 1.4089 - val_accuracy: 0.2484\n",
            "Model Evaluation\n",
            "238/238 [==============================] - 1s 2ms/step - loss: 1.4090 - accuracy: 0.2500\n"
          ]
        },
        {
          "data": {
            "image/png": "[encoded data removed]",
            "text/plain": [
              "<Figure size 576x360 with 1 Axes>"
            ]
          },
          "metadata": {
            "needs_background": "light"
          },
          "output_type": "display_data"
        }
      ],
      "source": [
        "#In Keras is neccesary to add the regularizer by using the attribute kernel_regularizer\n",
        "#to each layer whose weights will be considered in the Omega function.\n",
        "#is it also possibile to consider the bias by using the attribute bias_regularizer \n",
        "#tf.keras.regularizers.l1(alpha) perfroms the L1-norm regularization\n",
        "\n",
        "#[TO COMPLETE] copy the model that you previously defined that overfits the \n",
        "#training data, and add the L1-norm regularization. Use a proper value for the\n",
        "#alpha hyper-parameter, that prevents the model from overfitting. The results  \n",
        "#reached by the model in terms of loss and accuracy (in all data sets) should be\n",
        "#comparable with the ones obtained by the initial model defined in Exercise 2.1 \n",
        "\n",
        "#In general, a layer that exploits L1-norm regularization is defined as follows:\n",
        "\n",
        "#model.add(keras.layers.Dense(units=[TO COMPLETE], activation=[TO COMPLETE], kernel_regularizer=tf.keras.regularizers.l1([TO COMPLETE]))) \n",
        "\n",
        "#[TO COMPLETE]\n",
        "model = keras.models.Sequential()\n",
        "model.add(tf.keras.Input(shape=(num_words,)))\n",
        "model.add(keras.layers.Dense(units=20, activation=\"relu\",kernel_regularizer=tf.keras.regularizers.l1(0.01)))\n",
        "model.add(keras.layers.Dense(20, activation=\"relu\",kernel_regularizer=tf.keras.regularizers.l1(0.01)))\n",
        "model.add(keras.layers.Dense(4, activation=\"softmax\"))\n",
        "\n",
        "\n",
        "model.compile(loss=\"sparse_categorical_crossentropy\",\n",
        "              optimizer=keras.optimizers.Adam(learning_rate=1e-3),#[TO COMPLETE] learning rate\n",
        "              metrics=[\"accuracy\"])\n",
        "\n",
        "history = model.fit(X_train, y_train, epochs=20,#[TO COMPLETE] epochs\n",
        "                    validation_data=(X_valid, y_valid))\n",
        "\n",
        "print(\"Model Evaluation\")\n",
        "model.evaluate(X_test, y_test)\n",
        "plot_learning_curves(history)"
      ]
    },
    {
      "cell_type": "markdown",
      "metadata": {
        "id": "CgnCGYUvDqbC"
      },
      "source": [
        "### [TO COMPLETE] L2-norm\n",
        "\n",
        "L2-norm regularization is also known as weight decay. This strategy drives the weights closer to the origin by adding the regularization term omega which is defined as:\n",
        "$$\n",
        " \\Omega(\\theta)=\\frac{1}{2}||\\mathbf{W}||_2^2\n",
        "$$\n",
        "\n",
        "Let's find the values for the $\\alpha$ parameters that allow removing remove the overfitting effect with L2-norm."
      ]
    },
    {
      "cell_type": "code",
      "execution_count": 18,
      "metadata": {
        "colab": {
          "base_uri": "https://localhost:8080/",
          "height": 1000
        },
        "id": "qqNhu350DtJo",
        "outputId": "df232d70-f81c-41f3-8c28-ee70bb4d57e2"
      },
      "outputs": [
        {
          "name": "stdout",
          "output_type": "stream",
          "text": [
            "Epoch 1/20\n",
            "3375/3375 [==============================] - 7s 2ms/step - loss: 1.2025 - accuracy: 0.7113 - val_loss: 1.0014 - val_accuracy: 0.7591\n",
            "Epoch 2/20\n",
            "3375/3375 [==============================] - 7s 2ms/step - loss: 0.9316 - accuracy: 0.7804 - val_loss: 0.8947 - val_accuracy: 0.7889\n",
            "Epoch 3/20\n",
            "3375/3375 [==============================] - 7s 2ms/step - loss: 0.8654 - accuracy: 0.7886 - val_loss: 0.8494 - val_accuracy: 0.7885\n",
            "Epoch 4/20\n",
            "3375/3375 [==============================] - 7s 2ms/step - loss: 0.8197 - accuracy: 0.7968 - val_loss: 0.8022 - val_accuracy: 0.7978\n",
            "Epoch 5/20\n",
            "3375/3375 [==============================] - 7s 2ms/step - loss: 0.7857 - accuracy: 0.8020 - val_loss: 0.7758 - val_accuracy: 0.8018\n",
            "Epoch 6/20\n",
            "3375/3375 [==============================] - 7s 2ms/step - loss: 0.7638 - accuracy: 0.8048 - val_loss: 0.7594 - val_accuracy: 0.8064\n",
            "Epoch 7/20\n",
            "3375/3375 [==============================] - 7s 2ms/step - loss: 0.7475 - accuracy: 0.8063 - val_loss: 0.7448 - val_accuracy: 0.8064\n",
            "Epoch 8/20\n",
            "3375/3375 [==============================] - 7s 2ms/step - loss: 0.7333 - accuracy: 0.8073 - val_loss: 0.7308 - val_accuracy: 0.8109\n",
            "Epoch 9/20\n",
            "3375/3375 [==============================] - 6s 2ms/step - loss: 0.7220 - accuracy: 0.8087 - val_loss: 0.7215 - val_accuracy: 0.8090\n",
            "Epoch 10/20\n",
            "3375/3375 [==============================] - 7s 2ms/step - loss: 0.7144 - accuracy: 0.8079 - val_loss: 0.7291 - val_accuracy: 0.8047\n",
            "Epoch 11/20\n",
            "3375/3375 [==============================] - 7s 2ms/step - loss: 0.7072 - accuracy: 0.8081 - val_loss: 0.7093 - val_accuracy: 0.8067\n",
            "Epoch 12/20\n",
            "3375/3375 [==============================] - 7s 2ms/step - loss: 0.7009 - accuracy: 0.8085 - val_loss: 0.7040 - val_accuracy: 0.8121\n",
            "Epoch 13/20\n",
            "3375/3375 [==============================] - 7s 2ms/step - loss: 0.6972 - accuracy: 0.8081 - val_loss: 0.6936 - val_accuracy: 0.8079\n",
            "Epoch 14/20\n",
            "3375/3375 [==============================] - 7s 2ms/step - loss: 0.6913 - accuracy: 0.8085 - val_loss: 0.7047 - val_accuracy: 0.7994\n",
            "Epoch 15/20\n",
            "3375/3375 [==============================] - 7s 2ms/step - loss: 0.6875 - accuracy: 0.8090 - val_loss: 0.6868 - val_accuracy: 0.8121\n",
            "Epoch 16/20\n",
            "3375/3375 [==============================] - 7s 2ms/step - loss: 0.6842 - accuracy: 0.8090 - val_loss: 0.6847 - val_accuracy: 0.8103\n",
            "Epoch 17/20\n",
            "3375/3375 [==============================] - 7s 2ms/step - loss: 0.6813 - accuracy: 0.8090 - val_loss: 0.6946 - val_accuracy: 0.8033\n",
            "Epoch 18/20\n",
            "3375/3375 [==============================] - 7s 2ms/step - loss: 0.6781 - accuracy: 0.8081 - val_loss: 0.6773 - val_accuracy: 0.8100\n",
            "Epoch 19/20\n",
            "3375/3375 [==============================] - 7s 2ms/step - loss: 0.6754 - accuracy: 0.8081 - val_loss: 0.6786 - val_accuracy: 0.8095\n",
            "Epoch 20/20\n",
            "3375/3375 [==============================] - 7s 2ms/step - loss: 0.6736 - accuracy: 0.8077 - val_loss: 0.6899 - val_accuracy: 0.8012\n",
            "Model Evaluation\n",
            "238/238 [==============================] - 1s 2ms/step - loss: 0.6956 - accuracy: 0.7953\n"
          ]
        },
        {
          "data": {
            "image/png": "[encoded data removed]",
            "text/plain": [
              "<Figure size 576x360 with 1 Axes>"
            ]
          },
          "metadata": {
            "needs_background": "light"
          },
          "output_type": "display_data"
        }
      ],
      "source": [
        "#[TO COMPLETE] insert the model that you previously defined that overfit the \n",
        "#trainig data, and add the L2-norm regularization. Use proper values for the\n",
        "#alpha hyper-parameters, that prevents the model from overfitting. The results  \n",
        "#reached by the model in terms of loss and accuracy (in all data sets) should be\n",
        "#comparable with the ones obtained by the initial model defined in Exercise 2.1\n",
        "\n",
        "#In general, a layer that exploits L2-norm regularization is defined as follow:\n",
        "\n",
        "#model.add(keras.layers.Dense(units=[TO COMPLETE], activation=[TO COMPLETE],kernel_regularizer=tf.keras.regularizers.l2([TO COMPLETE]))) \n",
        "\n",
        "#[TO COMPLETE]\n",
        "\n",
        "model = keras.models.Sequential()\n",
        "model.add(tf.keras.Input(shape=(num_words,)))\n",
        "model.add(keras.layers.Dense(units=20, activation=\"relu\",kernel_regularizer=tf.keras.regularizers.l2(0.075)))\n",
        "model.add(keras.layers.Dense(20, activation=\"relu\",kernel_regularizer=tf.keras.regularizers.l2(0.075)))\n",
        "model.add(keras.layers.Dense(4, activation=\"softmax\"))\n",
        "\n",
        "\n",
        "model.compile(loss=\"sparse_categorical_crossentropy\",\n",
        "              optimizer=keras.optimizers.Adam(learning_rate=1e-3),#[TO COMPLETE] learning rate\n",
        "              metrics=[\"accuracy\"])\n",
        "\n",
        "history = model.fit(X_train, y_train, epochs=20,#[TO COMPLETE] epochs\n",
        "     validation_data=(X_valid, y_valid))\n",
        "\n",
        "print(\"Model Evaluation\")\n",
        "model.evaluate(X_test, y_test)\n",
        "plot_learning_curves(history)"
      ]
    },
    {
      "cell_type": "markdown",
      "metadata": {
        "id": "xvyKPb4DD25G"
      },
      "source": [
        "###[TO COMPLETE] Early stopping\n",
        "\n",
        "Early Stopping is a form of regularization used to avoid overfitting. It is designed to monitor the generalization error of one model and stop training when generalization error begins to degrade. In order to evaluate the generalization error, early stopping requires that a validation dataset is evaluated during training. Then, when the validation error does not improve for a specific number of epochs (`patience` hyper-parameter), it stops the training phase."
      ]
    },
    {
      "cell_type": "code",
      "execution_count": 20,
      "metadata": {
        "colab": {
          "base_uri": "https://localhost:8080/",
          "height": 620
        },
        "id": "MqNOOZ11D7cq",
        "outputId": "a1576c84-1101-4755-b0cf-73c368cc3a28"
      },
      "outputs": [
        {
          "name": "stdout",
          "output_type": "stream",
          "text": [
            "Epoch 1/20\n",
            "3375/3375 [==============================] - 7s 2ms/step - loss: 0.4704 - accuracy: 0.8298 - val_loss: 0.4147 - val_accuracy: 0.8519\n",
            "Epoch 2/20\n",
            "3375/3375 [==============================] - 7s 2ms/step - loss: 0.3954 - accuracy: 0.8553 - val_loss: 0.4048 - val_accuracy: 0.8543\n",
            "Epoch 3/20\n",
            "3375/3375 [==============================] - 7s 2ms/step - loss: 0.3738 - accuracy: 0.8627 - val_loss: 0.3961 - val_accuracy: 0.8558\n",
            "Epoch 4/20\n",
            "3375/3375 [==============================] - 7s 2ms/step - loss: 0.3565 - accuracy: 0.8684 - val_loss: 0.3932 - val_accuracy: 0.8572\n",
            "Epoch 5/20\n",
            "3375/3375 [==============================] - 7s 2ms/step - loss: 0.3418 - accuracy: 0.8738 - val_loss: 0.3920 - val_accuracy: 0.8583\n",
            "Epoch 6/20\n",
            "3375/3375 [==============================] - 6s 2ms/step - loss: 0.3293 - accuracy: 0.8783 - val_loss: 0.3928 - val_accuracy: 0.8586\n",
            "Epoch 7/20\n",
            "3375/3375 [==============================] - 7s 2ms/step - loss: 0.3181 - accuracy: 0.8827 - val_loss: 0.4055 - val_accuracy: 0.8538\n",
            "Model Evaluation\n",
            "238/238 [==============================] - 0s 1ms/step - loss: 0.3993 - accuracy: 0.8533\n"
          ]
        },
        {
          "data": {
            "image/png": "[encoded data removed]",
            "text/plain": [
              "<Figure size 576x360 with 1 Axes>"
            ]
          },
          "metadata": {
            "needs_background": "light"
          },
          "output_type": "display_data"
        }
      ],
      "source": [
        "#[TO COMPLETE] insert the model that you previously defined that overfit the \n",
        "#trainnig data\n",
        "model = keras.models.Sequential()\n",
        "model.add(tf.keras.Input(shape=(num_words,)))\n",
        "model.add(keras.layers.Dense(20, activation=\"relu\"))\n",
        "model.add(keras.layers.Dense(20, activation=\"relu\"))\n",
        "model.add(keras.layers.Dense(4, activation=\"softmax\"))\n",
        "\n",
        "model.compile(loss=\"sparse_categorical_crossentropy\",\n",
        "              optimizer=keras.optimizers.Adam(learning_rate=1e-3),#[TO COMPLETE] learning rate\n",
        "\n",
        "              metrics=[\"accuracy\"])\n",
        "\n",
        "#Let's define a log dir in order to save the checkpoint file\n",
        "logdir = os.path.join(os.curdir, \"my_logs\", \"run_{}\".format(time.time()))\n",
        "\n",
        "#In Keras the early stopping is manage by using the callbacks argument.\n",
        "callbacks = [\n",
        "    keras.callbacks.TensorBoard(logdir),\n",
        "    keras.callbacks.EarlyStopping(patience=2),#[TO COMPLETE] play with patience and find the value that prevents the model from overfitting.\n",
        "\n",
        "\n",
        "    #Saving the checkpoints file allows to load the \"best\" model when the Early \n",
        "    #stopping detect that the generalization error degrade (after 'patience' epochs)\n",
        "    keras.callbacks.ModelCheckpoint(\"my_mnist_model.h5\", save_best_only=True),\n",
        "]\n",
        "\n",
        "history = model.fit(X_train, y_train, epochs=20,#[TO COMPLETE] epochs\n",
        "                    validation_data=(X_valid, y_valid),\n",
        "                    callbacks=callbacks)\n",
        "\n",
        "print(\"Model Evaluation\")\n",
        "#The early stopping stopped training after few epochs without progress, so your\n",
        "#model may already have started to overfit the training set. Since the \n",
        "#ModelCheckpoint callback only saved the best models (on the validation set) the\n",
        "#last saved model is the best on the validation set.\n",
        "model = keras.models.load_model(\"my_mnist_model.h5\")\n",
        "model.evaluate(X_test, y_test)\n",
        "plot_learning_curves(history)"
      ]
    },
    {
      "cell_type": "markdown",
      "metadata": {
        "id": "DCV8pwVzl9GK"
      },
      "source": [
        "\n",
        "## Exercise 2.3: Model Selection\n",
        "\n",
        "Hyperparameters are the parameters of the learning method itself which we have to specify a priori, i.e., before model fitting. In contrast, model parameters are parameters which arise as a result of the fit (the network weights). The aim of model selection is selecting the best hyperparameters for our deep network. Finding the right hyperparameters for a model can be crucial for the model performance on given data. For istance lets consider our model trained by using different values for the learning rate: "
      ]
    },
    {
      "cell_type": "code",
      "execution_count": 21,
      "metadata": {
        "id": "Fw8Hs-AEmLKh"
      },
      "outputs": [],
      "source": [
        "learning_rates = [1e-4, 1e-2, 1e-1]"
      ]
    },
    {
      "cell_type": "code",
      "execution_count": 22,
      "metadata": {
        "colab": {
          "base_uri": "https://localhost:8080/"
        },
        "id": "mym4GOgUmWqD",
        "outputId": "8ae99b5c-e3df-4f0c-8ac9-251827b3daa1"
      },
      "outputs": [
        {
          "name": "stdout",
          "output_type": "stream",
          "text": [
            "Epoch 1/10\n",
            "3375/3375 [==============================] - 7s 2ms/step - loss: 0.8177 - accuracy: 0.7206 - val_loss: 0.5070 - val_accuracy: 0.8323\n",
            "Epoch 2/10\n",
            "3375/3375 [==============================] - 6s 2ms/step - loss: 0.4561 - accuracy: 0.8445 - val_loss: 0.4455 - val_accuracy: 0.8472\n",
            "Epoch 3/10\n",
            "3375/3375 [==============================] - 6s 2ms/step - loss: 0.4207 - accuracy: 0.8539 - val_loss: 0.4321 - val_accuracy: 0.8507\n",
            "Epoch 4/10\n",
            "3375/3375 [==============================] - 6s 2ms/step - loss: 0.4073 - accuracy: 0.8573 - val_loss: 0.4242 - val_accuracy: 0.8518\n",
            "Epoch 5/10\n",
            "3375/3375 [==============================] - 7s 2ms/step - loss: 0.3996 - accuracy: 0.8592 - val_loss: 0.4206 - val_accuracy: 0.8509\n",
            "Epoch 6/10\n",
            "3375/3375 [==============================] - 6s 2ms/step - loss: 0.3942 - accuracy: 0.8602 - val_loss: 0.4175 - val_accuracy: 0.8525\n",
            "Epoch 7/10\n",
            "3375/3375 [==============================] - 6s 2ms/step - loss: 0.3898 - accuracy: 0.8616 - val_loss: 0.4153 - val_accuracy: 0.8528\n",
            "Epoch 8/10\n",
            "3375/3375 [==============================] - 6s 2ms/step - loss: 0.3860 - accuracy: 0.8628 - val_loss: 0.4137 - val_accuracy: 0.8534\n",
            "Epoch 9/10\n",
            "3375/3375 [==============================] - 6s 2ms/step - loss: 0.3825 - accuracy: 0.8633 - val_loss: 0.4112 - val_accuracy: 0.8539\n",
            "Epoch 10/10\n",
            "3375/3375 [==============================] - 6s 2ms/step - loss: 0.3793 - accuracy: 0.8642 - val_loss: 0.4104 - val_accuracy: 0.8541\n",
            "evaluation on test set\n",
            "238/238 [==============================] - 1s 2ms/step - loss: 0.4198 - accuracy: 0.8463\n",
            "Epoch 1/10\n",
            "3375/3375 [==============================] - 7s 2ms/step - loss: 0.4616 - accuracy: 0.8326 - val_loss: 0.4389 - val_accuracy: 0.8408\n",
            "Epoch 2/10\n",
            "3375/3375 [==============================] - 6s 2ms/step - loss: 0.4096 - accuracy: 0.8520 - val_loss: 0.4205 - val_accuracy: 0.8493\n",
            "Epoch 3/10\n",
            "3375/3375 [==============================] - 6s 2ms/step - loss: 0.3907 - accuracy: 0.8589 - val_loss: 0.4100 - val_accuracy: 0.8533\n",
            "Epoch 4/10\n",
            "3375/3375 [==============================] - 6s 2ms/step - loss: 0.3756 - accuracy: 0.8632 - val_loss: 0.4203 - val_accuracy: 0.8509\n",
            "Epoch 5/10\n",
            "3375/3375 [==============================] - 6s 2ms/step - loss: 0.3633 - accuracy: 0.8685 - val_loss: 0.4203 - val_accuracy: 0.8481\n",
            "evaluation on test set\n",
            "238/238 [==============================] - 1s 2ms/step - loss: 0.4327 - accuracy: 0.8442\n",
            "Epoch 1/10\n",
            "3375/3375 [==============================] - 7s 2ms/step - loss: 0.7453 - accuracy: 0.7387 - val_loss: 0.7061 - val_accuracy: 0.7783\n",
            "Epoch 2/10\n",
            "3375/3375 [==============================] - 6s 2ms/step - loss: 0.7582 - accuracy: 0.6606 - val_loss: 0.7437 - val_accuracy: 0.6527\n",
            "Epoch 3/10\n",
            "3375/3375 [==============================] - 6s 2ms/step - loss: 0.7820 - accuracy: 0.6409 - val_loss: 0.8462 - val_accuracy: 0.6571\n",
            "evaluation on test set\n",
            "238/238 [==============================] - 1s 2ms/step - loss: 0.8462 - accuracy: 0.6496\n"
          ]
        }
      ],
      "source": [
        "histories = []\n",
        "for learning_rate in learning_rates:\n",
        "    model = keras.models.Sequential([\n",
        "                                    tf.keras.Input(shape=(num_words,)),\n",
        "                                    keras.layers.Dense(16, activation=\"relu\"),\n",
        "                                    keras.layers.Dense(16, activation=\"relu\"),\n",
        "                                    keras.layers.Dense(4, activation=\"softmax\")\n",
        "                                     ])\n",
        "    model.compile(loss=\"sparse_categorical_crossentropy\",\n",
        "              optimizer=keras.optimizers.Adam(learning_rate=learning_rate),\n",
        "              metrics=[\"accuracy\"])\n",
        "              \n",
        "    callbacks = [keras.callbacks.EarlyStopping(patience=2)]\n",
        "\n",
        "    history = model.fit(X_train, y_train,\n",
        "                        validation_data=(X_valid, y_valid), epochs=10,\n",
        "                        callbacks=callbacks)\n",
        "    histories.append(history)\n",
        "    print(\"evaluation on test set\")\n",
        "    model.evaluate(X_test, y_test)"
      ]
    },
    {
      "cell_type": "markdown",
      "metadata": {
        "id": "RzTSjfwptkHJ"
      },
      "source": [
        "Let's plot the results"
      ]
    },
    {
      "cell_type": "code",
      "execution_count": 23,
      "metadata": {
        "colab": {
          "base_uri": "https://localhost:8080/",
          "height": 979
        },
        "id": "cIlN1vlioIYh",
        "outputId": "a56b5d68-3cac-4b02-8fb9-bb759354d98e"
      },
      "outputs": [
        {
          "name": "stdout",
          "output_type": "stream",
          "text": [
            "Learning rate: 0.0001\n"
          ]
        },
        {
          "data": {
            "image/png": "[encoded data removed]",
            "text/plain": [
              "<Figure size 576x360 with 1 Axes>"
            ]
          },
          "metadata": {
            "needs_background": "light"
          },
          "output_type": "display_data"
        },
        {
          "name": "stdout",
          "output_type": "stream",
          "text": [
            "Learning rate: 0.01\n"
          ]
        },
        {
          "data": {
            "image/png": "[encoded data removed]",
            "text/plain": [
              "<Figure size 576x360 with 1 Axes>"
            ]
          },
          "metadata": {
            "needs_background": "light"
          },
          "output_type": "display_data"
        },
        {
          "name": "stdout",
          "output_type": "stream",
          "text": [
            "Learning rate: 0.1\n"
          ]
        },
        {
          "data": {
            "image/png": "[encoded data removed]",
            "text/plain": [
              "<Figure size 576x360 with 1 Axes>"
            ]
          },
          "metadata": {
            "needs_background": "light"
          },
          "output_type": "display_data"
        }
      ],
      "source": [
        "for learning_rate, history in zip(learning_rates, histories):\n",
        "    print(\"Learning rate:\", learning_rate)\n",
        "    plot_learning_acc_and_loss(history)"
      ]
    },
    {
      "cell_type": "markdown",
      "metadata": {
        "id": "_JntujSWq3e5"
      },
      "source": [
        "### [TO COMPLETE] GRID Search:\n",
        "\n",
        "Since a deep net has many hyperparameters, in order to find the best ones, we have to consider all the possible combinations of all of the possible values. One common method to perform this complex task is Grid-Search.\n",
        "Given a set of values for each hyper-parameter, Grid-Search will build a model on each parameter combination possible. It iterates through every parameter combination and stores a model for each combination. Finally, the model that obtained the best result on the validation set will be select.\n",
        "\n",
        "In order to perfrom Grid-Search we will use the `GridSearchCV` class from `scikit-learn`."
      ]
    },
    {
      "cell_type": "markdown",
      "metadata": {
        "id": "CPz629YSrDhN"
      },
      "source": [
        "Let's Create a `build_model()` function that takes two arguments, `n_neurons` and `learning_rate`, and builds, compiles and returns a model with the given number of of neurons and the given learning rate.\n",
        "In order to limit the time requirements of the process we will consider only these two hyper-paramters.\n",
        "\n",
        "[TO COMPLETE] in the following code cell define the `build_model` function."
      ]
    },
    {
      "cell_type": "code",
      "execution_count": 24,
      "metadata": {
        "colab": {
          "base_uri": "https://localhost:8080/"
        },
        "id": "oGSKWTTtqxZ4",
        "outputId": "e490ef1f-5f7b-455f-e8da-4e1ded1ab866"
      },
      "outputs": [
        {
          "name": "stderr",
          "output_type": "stream",
          "text": [
            "/usr/local/lib/python3.7/dist-packages/ipykernel_launcher.py:25: DeprecationWarning: KerasRegressor is deprecated, use Sci-Keras (https://github.com/adriangb/scikeras) instead. See https://www.adriangb.com/scikeras/stable/migration.html for help migrating.\n"
          ]
        }
      ],
      "source": [
        "def build_model(n_units=30, learning_rate=1e-3):\n",
        "    # The function has to build a model similar to the ones we used in previuous execises:\n",
        "    #- a input layer \n",
        "    #- one or two Dense layers composed of n_units and that exploit Relu activation function \n",
        "    #- the output layer that uses the softmax activation function\n",
        "    # Then, the model has to be compiled.\n",
        "  \n",
        "    model = keras.models.Sequential([\n",
        "    tf.keras.Input(shape=(num_words,)),\n",
        "    keras.layers.Dense(n_units, activation=\"relu\"),\n",
        "    keras.layers.Dense(n_units, activation=\"relu\"),\n",
        "    keras.layers.Dense(4, activation=\"softmax\")\n",
        "])#[TO COMPLETE]\n",
        "    model.compile(loss=\"sparse_categorical_crossentropy\",\n",
        "              optimizer=keras.optimizers.Adam(learning_rate=learning_rate),\n",
        "              metrics=[\"accuracy\"])                                \n",
        "    \n",
        "    # [TO COMPLETE] Then, the model has to be compiled.\n",
        "    \n",
        "    return model\n",
        "\n",
        "    \n",
        "#Create a keras.wrappers.scikit_learn.KerasRegressor and pass the build_model \n",
        "#function to the constructor. This gives you a Scikit-Learn compatible predictor\n",
        "keras_reg = keras.wrappers.scikit_learn.KerasRegressor(build_model)"
      ]
    },
    {
      "cell_type": "markdown",
      "metadata": {
        "id": "PS6W3A2LxDg5"
      },
      "source": [
        "Let's define the lists of hyper-parameters' values. Also in this case, we use a very limited size lists, but in a real-world scenario a reasonable amount of possible values should be considered (try to add some values and check how much the time required to perform the Grid-Search increases)"
      ]
    },
    {
      "cell_type": "code",
      "execution_count": 25,
      "metadata": {
        "id": "y-uldCW3ru24"
      },
      "outputs": [],
      "source": [
        "param_distribs = {\n",
        "    \"n_units\": [26,27],# [TO COMPLETE] insert a list that contains few (2 or 3) reasonable value\n",
        "    \"learning_rate\": [1e-1, 1e-2] #[TO COMPLETE] insert a list that contains few (2 or 3) reasonable values\n",
        "    #Check how the time required to perform GRID search increases when increasing the number of values for each hyper-parameter.\n",
        "}"
      ]
    },
    {
      "cell_type": "markdown",
      "metadata": {
        "id": "bEiBxVYtx_sK"
      },
      "source": [
        "Use a `sklearn.model_selection.GridSearchCV` to search the hyperparameter space of your `KerasRegressor`"
      ]
    },
    {
      "cell_type": "code",
      "execution_count": 26,
      "metadata": {
        "id": "iobF2Bvdr9ER"
      },
      "outputs": [],
      "source": [
        "from sklearn.model_selection import GridSearchCV\n",
        "\n",
        "grid_search = GridSearchCV(keras_reg, param_distribs)"
      ]
    },
    {
      "cell_type": "markdown",
      "metadata": {
        "id": "LVGMcZz_yKSX"
      },
      "source": [
        "Run the Grid-Search"
      ]
    },
    {
      "cell_type": "code",
      "execution_count": 27,
      "metadata": {
        "colab": {
          "base_uri": "https://localhost:8080/"
        },
        "id": "-BA3vgTjr-hw",
        "outputId": "a344ec23-7e6d-4568-df70-2f69998610bd"
      },
      "outputs": [
        {
          "name": "stdout",
          "output_type": "stream",
          "text": [
            "Epoch 1/7\n",
            "2700/2700 [==============================] - 6s 2ms/step - loss: 0.6936 - accuracy: 0.7712 - val_loss: 0.6285 - val_accuracy: 0.7832\n",
            "Epoch 2/7\n",
            "2700/2700 [==============================] - 6s 2ms/step - loss: 0.6417 - accuracy: 0.7973 - val_loss: 0.6837 - val_accuracy: 0.7762\n",
            "Epoch 3/7\n",
            "2700/2700 [==============================] - 6s 2ms/step - loss: 0.6997 - accuracy: 0.7667 - val_loss: 0.7565 - val_accuracy: 0.7638\n",
            "Epoch 4/7\n",
            "2700/2700 [==============================] - 5s 2ms/step - loss: 0.7714 - accuracy: 0.7616 - val_loss: 0.7160 - val_accuracy: 0.7853\n",
            "Epoch 5/7\n",
            "2700/2700 [==============================] - 6s 2ms/step - loss: 0.7252 - accuracy: 0.7753 - val_loss: 0.7679 - val_accuracy: 0.8044\n",
            "Epoch 6/7\n",
            "2700/2700 [==============================] - 6s 2ms/step - loss: 0.7150 - accuracy: 0.7771 - val_loss: 0.7059 - val_accuracy: 0.7929\n",
            "Epoch 7/7\n",
            "2700/2700 [==============================] - 6s 2ms/step - loss: 0.7455 - accuracy: 0.7698 - val_loss: 0.7653 - val_accuracy: 0.7611\n",
            "675/675 [==============================] - 1s 1ms/step - loss: 0.7542 - accuracy: 0.7655\n",
            "Epoch 1/7\n",
            "2700/2700 [==============================] - 6s 2ms/step - loss: 0.6514 - accuracy: 0.7794 - val_loss: 0.6200 - val_accuracy: 0.7833\n",
            "Epoch 2/7\n",
            "2700/2700 [==============================] - 5s 2ms/step - loss: 0.6585 - accuracy: 0.7789 - val_loss: 0.7741 - val_accuracy: 0.7673\n",
            "Epoch 3/7\n",
            "2700/2700 [==============================] - 6s 2ms/step - loss: 0.7097 - accuracy: 0.7712 - val_loss: 0.6516 - val_accuracy: 0.7747\n",
            "Epoch 4/7\n",
            "2700/2700 [==============================] - 6s 2ms/step - loss: 0.7003 - accuracy: 0.7646 - val_loss: 0.7325 - val_accuracy: 0.7625\n",
            "Epoch 5/7\n",
            "2700/2700 [==============================] - 6s 2ms/step - loss: 0.7023 - accuracy: 0.7785 - val_loss: 0.8565 - val_accuracy: 0.6131\n",
            "Epoch 6/7\n",
            "2700/2700 [==============================] - 6s 2ms/step - loss: 0.8471 - accuracy: 0.6362 - val_loss: 0.8423 - val_accuracy: 0.6489\n",
            "Epoch 7/7\n",
            "2700/2700 [==============================] - 6s 2ms/step - loss: 0.8582 - accuracy: 0.6329 - val_loss: 0.8461 - val_accuracy: 0.6494\n",
            "675/675 [==============================] - 1s 1ms/step - loss: 0.8307 - accuracy: 0.6465\n",
            "Epoch 1/7\n",
            "2700/2700 [==============================] - 6s 2ms/step - loss: 0.7255 - accuracy: 0.7617 - val_loss: 0.6806 - val_accuracy: 0.7888\n",
            "Epoch 2/7\n",
            "2700/2700 [==============================] - 6s 2ms/step - loss: 0.6742 - accuracy: 0.7944 - val_loss: 0.6566 - val_accuracy: 0.8008\n",
            "Epoch 3/7\n",
            "2700/2700 [==============================] - 6s 2ms/step - loss: 0.7680 - accuracy: 0.6616 - val_loss: 0.7507 - val_accuracy: 0.6671\n",
            "Epoch 4/7\n",
            "2700/2700 [==============================] - 6s 2ms/step - loss: 0.7783 - accuracy: 0.6550 - val_loss: 0.7808 - val_accuracy: 0.6948\n",
            "Epoch 5/7\n",
            "2700/2700 [==============================] - 6s 2ms/step - loss: 0.7781 - accuracy: 0.6569 - val_loss: 0.7903 - val_accuracy: 0.6499\n",
            "Epoch 6/7\n",
            "2700/2700 [==============================] - 6s 2ms/step - loss: 0.7830 - accuracy: 0.6533 - val_loss: 0.8187 - val_accuracy: 0.6547\n",
            "Epoch 7/7\n",
            "2700/2700 [==============================] - 6s 2ms/step - loss: 0.8019 - accuracy: 0.6459 - val_loss: 0.8143 - val_accuracy: 0.6418\n",
            "675/675 [==============================] - 1s 1ms/step - loss: 0.8125 - accuracy: 0.6369\n",
            "Epoch 1/7\n",
            "2700/2700 [==============================] - 6s 2ms/step - loss: 0.7191 - accuracy: 0.7508 - val_loss: 0.6661 - val_accuracy: 0.7766\n",
            "Epoch 2/7\n",
            "2700/2700 [==============================] - 6s 2ms/step - loss: 0.6706 - accuracy: 0.7913 - val_loss: 0.6426 - val_accuracy: 0.8048\n",
            "Epoch 3/7\n",
            "2700/2700 [==============================] - 6s 2ms/step - loss: 0.6694 - accuracy: 0.7905 - val_loss: 0.7682 - val_accuracy: 0.7447\n",
            "Epoch 4/7\n",
            "2700/2700 [==============================] - 6s 2ms/step - loss: 0.6848 - accuracy: 0.7859 - val_loss: 0.7230 - val_accuracy: 0.7750\n",
            "Epoch 5/7\n",
            "2700/2700 [==============================] - 6s 2ms/step - loss: 0.6696 - accuracy: 0.7944 - val_loss: 0.7600 - val_accuracy: 0.7470\n",
            "Epoch 6/7\n",
            "2700/2700 [==============================] - 6s 2ms/step - loss: 0.8929 - accuracy: 0.6238 - val_loss: 0.9549 - val_accuracy: 0.6035\n",
            "Epoch 7/7\n",
            "2700/2700 [==============================] - 6s 2ms/step - loss: 0.8555 - accuracy: 0.6288 - val_loss: 0.8609 - val_accuracy: 0.6090\n",
            "675/675 [==============================] - 1s 1ms/step - loss: 0.8498 - accuracy: 0.6211\n",
            "Epoch 1/7\n",
            "2700/2700 [==============================] - 6s 2ms/step - loss: 0.6683 - accuracy: 0.7693 - val_loss: 0.5921 - val_accuracy: 0.7993\n",
            "Epoch 2/7\n",
            "2700/2700 [==============================] - 6s 2ms/step - loss: 0.6280 - accuracy: 0.7822 - val_loss: 0.6435 - val_accuracy: 0.7933\n",
            "Epoch 3/7\n",
            "2700/2700 [==============================] - 6s 2ms/step - loss: 0.6560 - accuracy: 0.7719 - val_loss: 0.6189 - val_accuracy: 0.7601\n",
            "Epoch 4/7\n",
            "2700/2700 [==============================] - 6s 2ms/step - loss: 0.6581 - accuracy: 0.7696 - val_loss: 0.6859 - val_accuracy: 0.7727\n",
            "Epoch 5/7\n",
            "2700/2700 [==============================] - 6s 2ms/step - loss: 0.6435 - accuracy: 0.7722 - val_loss: 0.6654 - val_accuracy: 0.7619\n",
            "Epoch 6/7\n",
            "2700/2700 [==============================] - 6s 2ms/step - loss: 0.7567 - accuracy: 0.7115 - val_loss: 0.8652 - val_accuracy: 0.7782\n",
            "Epoch 7/7\n",
            "2700/2700 [==============================] - 6s 2ms/step - loss: 0.7606 - accuracy: 0.7247 - val_loss: 0.8262 - val_accuracy: 0.6265\n",
            "675/675 [==============================] - 1s 1ms/step - loss: 0.8218 - accuracy: 0.6222\n",
            "Epoch 1/7\n",
            "2700/2700 [==============================] - 7s 2ms/step - loss: 0.6539 - accuracy: 0.7773 - val_loss: 0.6298 - val_accuracy: 0.7918\n",
            "Epoch 2/7\n",
            "2700/2700 [==============================] - 6s 2ms/step - loss: 0.6693 - accuracy: 0.7736 - val_loss: 0.7062 - val_accuracy: 0.7808\n",
            "Epoch 3/7\n",
            "2700/2700 [==============================] - 6s 2ms/step - loss: 0.6541 - accuracy: 0.7749 - val_loss: 0.7035 - val_accuracy: 0.7996\n",
            "Epoch 4/7\n",
            "2700/2700 [==============================] - 6s 2ms/step - loss: 0.6650 - accuracy: 0.7803 - val_loss: 0.7061 - val_accuracy: 0.7980\n",
            "Epoch 5/7\n",
            "2700/2700 [==============================] - 6s 2ms/step - loss: 0.8307 - accuracy: 0.6573 - val_loss: 0.8616 - val_accuracy: 0.6303\n",
            "Epoch 6/7\n",
            "2700/2700 [==============================] - 6s 2ms/step - loss: 0.8204 - accuracy: 0.7071 - val_loss: 0.7836 - val_accuracy: 0.7508\n",
            "Epoch 7/7\n",
            "2700/2700 [==============================] - 6s 2ms/step - loss: 0.7807 - accuracy: 0.7465 - val_loss: 0.8035 - val_accuracy: 0.7772\n",
            "675/675 [==============================] - 1s 1ms/step - loss: 0.7850 - accuracy: 0.7777\n",
            "Epoch 1/7\n",
            "2700/2700 [==============================] - 7s 2ms/step - loss: 0.7085 - accuracy: 0.7634 - val_loss: 0.6511 - val_accuracy: 0.7718\n",
            "Epoch 2/7\n",
            "2700/2700 [==============================] - 6s 2ms/step - loss: 0.6914 - accuracy: 0.7823 - val_loss: 0.7321 - val_accuracy: 0.7648\n",
            "Epoch 3/7\n",
            "2700/2700 [==============================] - 6s 2ms/step - loss: 0.6964 - accuracy: 0.7836 - val_loss: 0.6900 - val_accuracy: 0.7947\n",
            "Epoch 4/7\n",
            "2700/2700 [==============================] - 6s 2ms/step - loss: 0.6972 - accuracy: 0.7730 - val_loss: 0.8866 - val_accuracy: 0.6331\n",
            "Epoch 5/7\n",
            "2700/2700 [==============================] - 6s 2ms/step - loss: 0.8702 - accuracy: 0.6207 - val_loss: 0.9548 - val_accuracy: 0.6226\n",
            "Epoch 6/7\n",
            "2700/2700 [==============================] - 5s 2ms/step - loss: 0.8758 - accuracy: 0.6197 - val_loss: 0.8992 - val_accuracy: 0.6172\n",
            "Epoch 7/7\n",
            "2700/2700 [==============================] - 6s 2ms/step - loss: 0.8550 - accuracy: 0.6275 - val_loss: 0.8394 - val_accuracy: 0.6022\n",
            "675/675 [==============================] - 1s 1ms/step - loss: 0.8301 - accuracy: 0.6079\n",
            "Epoch 1/7\n",
            "2700/2700 [==============================] - 7s 2ms/step - loss: 0.6902 - accuracy: 0.7638 - val_loss: 0.6863 - val_accuracy: 0.7478\n",
            "Epoch 2/7\n",
            "2700/2700 [==============================] - 6s 2ms/step - loss: 0.6473 - accuracy: 0.7767 - val_loss: 0.6403 - val_accuracy: 0.7783\n",
            "Epoch 3/7\n",
            "2700/2700 [==============================] - 6s 2ms/step - loss: 0.7309 - accuracy: 0.7268 - val_loss: 0.8150 - val_accuracy: 0.6458\n",
            "Epoch 4/7\n",
            "2700/2700 [==============================] - 6s 2ms/step - loss: 0.8168 - accuracy: 0.6418 - val_loss: 0.8129 - val_accuracy: 0.6475\n",
            "Epoch 5/7\n",
            "2700/2700 [==============================] - 6s 2ms/step - loss: 0.8023 - accuracy: 0.6477 - val_loss: 0.7671 - val_accuracy: 0.6420\n",
            "Epoch 6/7\n",
            "2700/2700 [==============================] - 5s 2ms/step - loss: 0.8002 - accuracy: 0.6453 - val_loss: 0.7960 - val_accuracy: 0.6372\n",
            "Epoch 7/7\n",
            "2700/2700 [==============================] - 6s 2ms/step - loss: 0.8049 - accuracy: 0.6452 - val_loss: 0.8198 - val_accuracy: 0.6574\n",
            "675/675 [==============================] - 1s 1ms/step - loss: 0.8151 - accuracy: 0.6564\n",
            "Epoch 1/7\n",
            "2700/2700 [==============================] - 7s 2ms/step - loss: 0.7161 - accuracy: 0.7620 - val_loss: 0.6573 - val_accuracy: 0.7761\n",
            "Epoch 2/7\n",
            "2700/2700 [==============================] - 6s 2ms/step - loss: 0.6584 - accuracy: 0.7932 - val_loss: 0.7189 - val_accuracy: 0.8012\n",
            "Epoch 3/7\n",
            "2700/2700 [==============================] - 6s 2ms/step - loss: 0.6790 - accuracy: 0.7849 - val_loss: 0.6230 - val_accuracy: 0.7962\n",
            "Epoch 4/7\n",
            "2700/2700 [==============================] - 6s 2ms/step - loss: 0.7592 - accuracy: 0.7371 - val_loss: 0.8812 - val_accuracy: 0.6464\n",
            "Epoch 5/7\n",
            "2700/2700 [==============================] - 6s 2ms/step - loss: 0.8727 - accuracy: 0.6261 - val_loss: 0.7927 - val_accuracy: 0.6459\n",
            "Epoch 6/7\n",
            "2700/2700 [==============================] - 6s 2ms/step - loss: 0.8202 - accuracy: 0.6367 - val_loss: 0.9948 - val_accuracy: 0.5362\n",
            "Epoch 7/7\n",
            "2700/2700 [==============================] - 6s 2ms/step - loss: 1.0352 - accuracy: 0.4780 - val_loss: 1.0402 - val_accuracy: 0.4515\n",
            "675/675 [==============================] - 1s 1ms/step - loss: 1.0362 - accuracy: 0.4556\n",
            "Epoch 1/7\n",
            "2700/2700 [==============================] - 7s 2ms/step - loss: 0.6858 - accuracy: 0.7610 - val_loss: 0.6674 - val_accuracy: 0.7684\n",
            "Epoch 2/7\n",
            "2700/2700 [==============================] - 8s 3ms/step - loss: 0.6593 - accuracy: 0.7675 - val_loss: 0.8126 - val_accuracy: 0.6464\n",
            "Epoch 3/7\n",
            "2700/2700 [==============================] - 6s 2ms/step - loss: 0.7264 - accuracy: 0.6864 - val_loss: 0.6879 - val_accuracy: 0.7911\n",
            "Epoch 4/7\n",
            "2700/2700 [==============================] - 6s 2ms/step - loss: 0.7905 - accuracy: 0.7420 - val_loss: 0.8133 - val_accuracy: 0.7283\n",
            "Epoch 5/7\n",
            "2700/2700 [==============================] - 6s 2ms/step - loss: 0.7370 - accuracy: 0.7627 - val_loss: 0.7796 - val_accuracy: 0.7836\n",
            "Epoch 6/7\n",
            "2700/2700 [==============================] - 6s 2ms/step - loss: 0.7621 - accuracy: 0.7605 - val_loss: 0.7688 - val_accuracy: 0.7669\n",
            "Epoch 7/7\n",
            "2700/2700 [==============================] - 6s 2ms/step - loss: 1.0641 - accuracy: 0.5238 - val_loss: 1.1620 - val_accuracy: 0.4387\n",
            "675/675 [==============================] - 1s 1ms/step - loss: 1.1539 - accuracy: 0.4418\n",
            "Epoch 1/7\n",
            "2700/2700 [==============================] - 7s 2ms/step - loss: 0.4739 - accuracy: 0.8279 - val_loss: 0.4524 - val_accuracy: 0.8363\n",
            "Epoch 2/7\n",
            "2700/2700 [==============================] - 6s 2ms/step - loss: 0.4075 - accuracy: 0.8530 - val_loss: 0.4214 - val_accuracy: 0.8526\n",
            "Epoch 3/7\n",
            "2700/2700 [==============================] - 6s 2ms/step - loss: 0.3788 - accuracy: 0.8627 - val_loss: 0.4324 - val_accuracy: 0.8521\n",
            "Epoch 4/7\n",
            "2700/2700 [==============================] - 6s 2ms/step - loss: 0.3563 - accuracy: 0.8709 - val_loss: 0.4297 - val_accuracy: 0.8487\n",
            "Epoch 5/7\n",
            "2700/2700 [==============================] - 6s 2ms/step - loss: 0.3346 - accuracy: 0.8789 - val_loss: 0.4381 - val_accuracy: 0.8475\n",
            "Epoch 6/7\n",
            "2700/2700 [==============================] - 6s 2ms/step - loss: 0.3185 - accuracy: 0.8847 - val_loss: 0.4422 - val_accuracy: 0.8443\n",
            "Epoch 7/7\n",
            "2700/2700 [==============================] - 6s 2ms/step - loss: 0.3055 - accuracy: 0.8902 - val_loss: 0.4602 - val_accuracy: 0.8419\n",
            "675/675 [==============================] - 1s 2ms/step - loss: 0.4499 - accuracy: 0.8493\n",
            "Epoch 1/7\n",
            "2700/2700 [==============================] - 6s 2ms/step - loss: 0.4708 - accuracy: 0.8296 - val_loss: 0.4321 - val_accuracy: 0.8437\n",
            "Epoch 2/7\n",
            "2700/2700 [==============================] - 6s 2ms/step - loss: 0.4054 - accuracy: 0.8529 - val_loss: 0.4283 - val_accuracy: 0.8518\n",
            "Epoch 3/7\n",
            "2700/2700 [==============================] - 6s 2ms/step - loss: 0.3755 - accuracy: 0.8625 - val_loss: 0.4277 - val_accuracy: 0.8487\n",
            "Epoch 4/7\n",
            "2700/2700 [==============================] - 6s 2ms/step - loss: 0.3526 - accuracy: 0.8719 - val_loss: 0.4284 - val_accuracy: 0.8505\n",
            "Epoch 5/7\n",
            "2700/2700 [==============================] - 6s 2ms/step - loss: 0.3315 - accuracy: 0.8787 - val_loss: 0.4541 - val_accuracy: 0.8462\n",
            "Epoch 6/7\n",
            "2700/2700 [==============================] - 6s 2ms/step - loss: 0.3143 - accuracy: 0.8864 - val_loss: 0.4640 - val_accuracy: 0.8418\n",
            "Epoch 7/7\n",
            "2700/2700 [==============================] - 6s 2ms/step - loss: 0.2996 - accuracy: 0.8920 - val_loss: 0.4867 - val_accuracy: 0.8444\n",
            "675/675 [==============================] - 1s 1ms/step - loss: 0.4815 - accuracy: 0.8408\n",
            "Epoch 1/7\n",
            "2700/2700 [==============================] - 7s 2ms/step - loss: 0.4687 - accuracy: 0.8310 - val_loss: 0.4281 - val_accuracy: 0.8448\n",
            "Epoch 2/7\n",
            "2700/2700 [==============================] - 6s 2ms/step - loss: 0.4015 - accuracy: 0.8544 - val_loss: 0.4200 - val_accuracy: 0.8499\n",
            "Epoch 3/7\n",
            "2700/2700 [==============================] - 6s 2ms/step - loss: 0.3732 - accuracy: 0.8646 - val_loss: 0.4219 - val_accuracy: 0.8522\n",
            "Epoch 4/7\n",
            "2700/2700 [==============================] - 6s 2ms/step - loss: 0.3492 - accuracy: 0.8737 - val_loss: 0.4266 - val_accuracy: 0.8493\n",
            "Epoch 5/7\n",
            "2700/2700 [==============================] - 6s 2ms/step - loss: 0.3304 - accuracy: 0.8802 - val_loss: 0.4431 - val_accuracy: 0.8493\n",
            "Epoch 6/7\n",
            "2700/2700 [==============================] - 6s 2ms/step - loss: 0.3129 - accuracy: 0.8858 - val_loss: 0.4521 - val_accuracy: 0.8448\n",
            "Epoch 7/7\n",
            "2700/2700 [==============================] - 6s 2ms/step - loss: 0.3001 - accuracy: 0.8914 - val_loss: 0.4638 - val_accuracy: 0.8483\n",
            "675/675 [==============================] - 1s 1ms/step - loss: 0.4866 - accuracy: 0.8429\n",
            "Epoch 1/7\n",
            "2700/2700 [==============================] - 7s 2ms/step - loss: 0.4747 - accuracy: 0.8281 - val_loss: 0.4394 - val_accuracy: 0.8418\n",
            "Epoch 2/7\n",
            "2700/2700 [==============================] - 6s 2ms/step - loss: 0.4080 - accuracy: 0.8517 - val_loss: 0.4218 - val_accuracy: 0.8490\n",
            "Epoch 3/7\n",
            "2700/2700 [==============================] - 6s 2ms/step - loss: 0.3789 - accuracy: 0.8630 - val_loss: 0.4178 - val_accuracy: 0.8478\n",
            "Epoch 4/7\n",
            "2700/2700 [==============================] - 6s 2ms/step - loss: 0.3565 - accuracy: 0.8710 - val_loss: 0.4243 - val_accuracy: 0.8480\n",
            "Epoch 5/7\n",
            "2700/2700 [==============================] - 6s 2ms/step - loss: 0.3349 - accuracy: 0.8786 - val_loss: 0.4293 - val_accuracy: 0.8495\n",
            "Epoch 6/7\n",
            "2700/2700 [==============================] - 6s 2ms/step - loss: 0.3191 - accuracy: 0.8846 - val_loss: 0.4479 - val_accuracy: 0.8452\n",
            "Epoch 7/7\n",
            "2700/2700 [==============================] - 6s 2ms/step - loss: 0.3043 - accuracy: 0.8904 - val_loss: 0.4541 - val_accuracy: 0.8485\n",
            "675/675 [==============================] - 1s 1ms/step - loss: 0.4455 - accuracy: 0.8526\n",
            "Epoch 1/7\n",
            "2700/2700 [==============================] - 7s 2ms/step - loss: 0.4715 - accuracy: 0.8297 - val_loss: 0.4415 - val_accuracy: 0.8418\n",
            "Epoch 2/7\n",
            "2700/2700 [==============================] - 6s 2ms/step - loss: 0.4050 - accuracy: 0.8523 - val_loss: 0.4337 - val_accuracy: 0.8457\n",
            "Epoch 3/7\n",
            "2700/2700 [==============================] - 6s 2ms/step - loss: 0.3760 - accuracy: 0.8624 - val_loss: 0.4299 - val_accuracy: 0.8464\n",
            "Epoch 4/7\n",
            "2700/2700 [==============================] - 6s 2ms/step - loss: 0.3548 - accuracy: 0.8704 - val_loss: 0.4312 - val_accuracy: 0.8468\n",
            "Epoch 5/7\n",
            "2700/2700 [==============================] - 6s 2ms/step - loss: 0.3331 - accuracy: 0.8771 - val_loss: 0.4447 - val_accuracy: 0.8457\n",
            "Epoch 6/7\n",
            "2700/2700 [==============================] - 6s 2ms/step - loss: 0.3171 - accuracy: 0.8834 - val_loss: 0.4540 - val_accuracy: 0.8438\n",
            "Epoch 7/7\n",
            "2700/2700 [==============================] - 6s 2ms/step - loss: 0.3028 - accuracy: 0.8881 - val_loss: 0.4752 - val_accuracy: 0.8358\n",
            "675/675 [==============================] - 1s 2ms/step - loss: 0.4889 - accuracy: 0.8377\n",
            "Epoch 1/7\n",
            "2700/2700 [==============================] - 7s 2ms/step - loss: 0.4732 - accuracy: 0.8289 - val_loss: 0.4537 - val_accuracy: 0.8411\n",
            "Epoch 2/7\n",
            "2700/2700 [==============================] - 6s 2ms/step - loss: 0.4074 - accuracy: 0.8529 - val_loss: 0.4193 - val_accuracy: 0.8505\n",
            "Epoch 3/7\n",
            "2700/2700 [==============================] - 6s 2ms/step - loss: 0.3792 - accuracy: 0.8622 - val_loss: 0.4258 - val_accuracy: 0.8515\n",
            "Epoch 4/7\n",
            "2700/2700 [==============================] - 6s 2ms/step - loss: 0.3569 - accuracy: 0.8713 - val_loss: 0.4208 - val_accuracy: 0.8498\n",
            "Epoch 5/7\n",
            "2700/2700 [==============================] - 6s 2ms/step - loss: 0.3359 - accuracy: 0.8788 - val_loss: 0.4401 - val_accuracy: 0.8484\n",
            "Epoch 6/7\n",
            "2700/2700 [==============================] - 6s 2ms/step - loss: 0.3180 - accuracy: 0.8854 - val_loss: 0.4470 - val_accuracy: 0.8456\n",
            "Epoch 7/7\n",
            "2700/2700 [==============================] - 6s 2ms/step - loss: 0.3040 - accuracy: 0.8901 - val_loss: 0.4626 - val_accuracy: 0.8455\n",
            "675/675 [==============================] - 1s 1ms/step - loss: 0.4564 - accuracy: 0.8468\n",
            "Epoch 1/7\n",
            "2700/2700 [==============================] - 7s 2ms/step - loss: 0.4716 - accuracy: 0.8289 - val_loss: 0.4322 - val_accuracy: 0.8467\n",
            "Epoch 2/7\n",
            "2700/2700 [==============================] - 6s 2ms/step - loss: 0.4030 - accuracy: 0.8533 - val_loss: 0.4281 - val_accuracy: 0.8487\n",
            "Epoch 3/7\n",
            "2700/2700 [==============================] - 6s 2ms/step - loss: 0.3722 - accuracy: 0.8654 - val_loss: 0.4286 - val_accuracy: 0.8489\n",
            "Epoch 4/7\n",
            "2700/2700 [==============================] - 6s 2ms/step - loss: 0.3490 - accuracy: 0.8742 - val_loss: 0.4361 - val_accuracy: 0.8500\n",
            "Epoch 5/7\n",
            "2700/2700 [==============================] - 6s 2ms/step - loss: 0.3271 - accuracy: 0.8829 - val_loss: 0.4510 - val_accuracy: 0.8450\n",
            "Epoch 6/7\n",
            "2700/2700 [==============================] - 6s 2ms/step - loss: 0.3096 - accuracy: 0.8892 - val_loss: 0.4515 - val_accuracy: 0.8388\n",
            "Epoch 7/7\n",
            "2700/2700 [==============================] - 6s 2ms/step - loss: 0.2948 - accuracy: 0.8939 - val_loss: 0.4749 - val_accuracy: 0.8417\n",
            "675/675 [==============================] - 1s 1ms/step - loss: 0.4768 - accuracy: 0.8385\n",
            "Epoch 1/7\n",
            "2700/2700 [==============================] - 7s 2ms/step - loss: 0.4696 - accuracy: 0.8313 - val_loss: 0.4348 - val_accuracy: 0.8444\n",
            "Epoch 2/7\n",
            "2700/2700 [==============================] - 6s 2ms/step - loss: 0.4068 - accuracy: 0.8531 - val_loss: 0.4222 - val_accuracy: 0.8466\n",
            "Epoch 3/7\n",
            "2700/2700 [==============================] - 6s 2ms/step - loss: 0.3748 - accuracy: 0.8643 - val_loss: 0.4277 - val_accuracy: 0.8464\n",
            "Epoch 4/7\n",
            "2700/2700 [==============================] - 6s 2ms/step - loss: 0.3509 - accuracy: 0.8737 - val_loss: 0.4344 - val_accuracy: 0.8475\n",
            "Epoch 5/7\n",
            "2700/2700 [==============================] - 6s 2ms/step - loss: 0.3292 - accuracy: 0.8817 - val_loss: 0.4394 - val_accuracy: 0.8494\n",
            "Epoch 6/7\n",
            "2700/2700 [==============================] - 6s 2ms/step - loss: 0.3116 - accuracy: 0.8881 - val_loss: 0.4609 - val_accuracy: 0.8427\n",
            "Epoch 7/7\n",
            "2700/2700 [==============================] - 6s 2ms/step - loss: 0.2979 - accuracy: 0.8931 - val_loss: 0.4670 - val_accuracy: 0.8436\n",
            "675/675 [==============================] - 1s 1ms/step - loss: 0.4828 - accuracy: 0.8386\n",
            "Epoch 1/7\n",
            "2700/2700 [==============================] - 7s 2ms/step - loss: 0.4745 - accuracy: 0.8285 - val_loss: 0.4296 - val_accuracy: 0.8466\n",
            "Epoch 2/7\n",
            "2700/2700 [==============================] - 6s 2ms/step - loss: 0.4078 - accuracy: 0.8515 - val_loss: 0.4182 - val_accuracy: 0.8490\n",
            "Epoch 3/7\n",
            "2700/2700 [==============================] - 6s 2ms/step - loss: 0.3762 - accuracy: 0.8618 - val_loss: 0.4227 - val_accuracy: 0.8505\n",
            "Epoch 4/7\n",
            "2700/2700 [==============================] - 6s 2ms/step - loss: 0.3522 - accuracy: 0.8723 - val_loss: 0.4195 - val_accuracy: 0.8518\n",
            "Epoch 5/7\n",
            "2700/2700 [==============================] - 6s 2ms/step - loss: 0.3293 - accuracy: 0.8801 - val_loss: 0.4328 - val_accuracy: 0.8457\n",
            "Epoch 6/7\n",
            "2700/2700 [==============================] - 6s 2ms/step - loss: 0.3112 - accuracy: 0.8865 - val_loss: 0.4542 - val_accuracy: 0.8444\n",
            "Epoch 7/7\n",
            "2700/2700 [==============================] - 6s 2ms/step - loss: 0.2966 - accuracy: 0.8923 - val_loss: 0.4692 - val_accuracy: 0.8372\n",
            "675/675 [==============================] - 1s 2ms/step - loss: 0.4673 - accuracy: 0.8431\n",
            "Epoch 1/7\n",
            "2700/2700 [==============================] - 7s 2ms/step - loss: 0.4729 - accuracy: 0.8280 - val_loss: 0.4452 - val_accuracy: 0.8431\n",
            "Epoch 2/7\n",
            "2700/2700 [==============================] - 6s 2ms/step - loss: 0.4064 - accuracy: 0.8520 - val_loss: 0.4224 - val_accuracy: 0.8494\n",
            "Epoch 3/7\n",
            "2700/2700 [==============================] - 6s 2ms/step - loss: 0.3755 - accuracy: 0.8648 - val_loss: 0.4209 - val_accuracy: 0.8535\n",
            "Epoch 4/7\n",
            "2700/2700 [==============================] - 6s 2ms/step - loss: 0.3521 - accuracy: 0.8731 - val_loss: 0.4227 - val_accuracy: 0.8485\n",
            "Epoch 5/7\n",
            "2700/2700 [==============================] - 6s 2ms/step - loss: 0.3302 - accuracy: 0.8816 - val_loss: 0.4312 - val_accuracy: 0.8518\n",
            "Epoch 6/7\n",
            "2700/2700 [==============================] - 6s 2ms/step - loss: 0.3091 - accuracy: 0.8892 - val_loss: 0.4486 - val_accuracy: 0.8487\n",
            "Epoch 7/7\n",
            "2700/2700 [==============================] - 6s 2ms/step - loss: 0.2976 - accuracy: 0.8933 - val_loss: 0.4536 - val_accuracy: 0.8433\n",
            "675/675 [==============================] - 1s 2ms/step - loss: 0.4652 - accuracy: 0.8384\n",
            "Epoch 1/7\n",
            "3375/3375 [==============================] - 8s 2ms/step - loss: 0.4649 - accuracy: 0.8316 - val_loss: 0.4271 - val_accuracy: 0.8474\n",
            "Epoch 2/7\n",
            "3375/3375 [==============================] - 7s 2ms/step - loss: 0.4041 - accuracy: 0.8536 - val_loss: 0.4211 - val_accuracy: 0.8493\n",
            "Epoch 3/7\n",
            "3375/3375 [==============================] - 8s 2ms/step - loss: 0.3779 - accuracy: 0.8634 - val_loss: 0.4129 - val_accuracy: 0.8561\n",
            "Epoch 4/7\n",
            "3375/3375 [==============================] - 8s 2ms/step - loss: 0.3568 - accuracy: 0.8704 - val_loss: 0.4217 - val_accuracy: 0.8497\n",
            "Epoch 5/7\n",
            "3375/3375 [==============================] - 7s 2ms/step - loss: 0.3389 - accuracy: 0.8771 - val_loss: 0.4422 - val_accuracy: 0.8516\n",
            "Epoch 6/7\n",
            "3375/3375 [==============================] - 8s 2ms/step - loss: 0.3248 - accuracy: 0.8812 - val_loss: 0.4411 - val_accuracy: 0.8534\n",
            "Epoch 7/7\n",
            "3375/3375 [==============================] - 8s 2ms/step - loss: 0.3134 - accuracy: 0.8861 - val_loss: 0.4580 - val_accuracy: 0.8465\n"
          ]
        },
        {
          "data": {
            "text/plain": [
              "GridSearchCV(estimator=<keras.wrappers.scikit_learn.KerasRegressor object at 0x7fa9c0d8a3d0>,\n",
              "             param_grid={'learning_rate': [0.1, 0.01], 'n_units': [26, 27]})"
            ]
          },
          "execution_count": 27,
          "metadata": {},
          "output_type": "execute_result"
        }
      ],
      "source": [
        "\n",
        "grid_search.fit(X_train.numpy(), y_train.numpy(), epochs=7,#The number of epochs can be modified (check what happens by increasing it)\n",
        "                validation_data=(X_valid.numpy(), y_valid.numpy()))"
      ]
    },
    {
      "cell_type": "markdown",
      "metadata": {
        "id": "aadmkiOoyM94"
      },
      "source": [
        "Print the best hyper-parameters, and evealuate the best model on the test set."
      ]
    },
    {
      "cell_type": "code",
      "execution_count": 28,
      "metadata": {
        "colab": {
          "base_uri": "https://localhost:8080/"
        },
        "id": "b0nL5OZkylNX",
        "outputId": "7e8470ff-b7ad-48a3-8411-d65c40e16da9"
      },
      "outputs": [
        {
          "name": "stdout",
          "output_type": "stream",
          "text": [
            "{'learning_rate': 0.01, 'n_units': 27}\n",
            "238/238 [==============================] - 1s 2ms/step - loss: 0.4634 - accuracy: 0.8439\n"
          ]
        },
        {
          "data": {
            "text/plain": [
              "[0.4634428322315216, 0.8439473509788513]"
            ]
          },
          "execution_count": 28,
          "metadata": {},
          "output_type": "execute_result"
        }
      ],
      "source": [
        "print(grid_search.best_params_)\n",
        "\n",
        "model = grid_search.best_estimator_.model\n",
        "model.evaluate(X_test, y_test)"
      ]
    }
  ],
  "metadata": {
    "colab": {
      "collapsed_sections": [],
      "name": "HW2_SK: Re- submission.ipynb",
      "provenance": []
    },
    "kernelspec": {
      "display_name": "Python 3",
      "name": "python3"
    },
    "widgets": {
      "application/vnd.jupyter.widget-state+json": {
        "0347868cb61c44858d855a147186f92c": {
          "model_module": "@jupyter-widgets/base",
          "model_module_version": "1.2.0",
          "model_name": "LayoutModel",
          "state": {
            "_model_module": "@jupyter-widgets/base",
            "_model_module_version": "1.2.0",
            "_model_name": "LayoutModel",
            "_view_count": null,
            "_view_module": "@jupyter-widgets/base",
            "_view_module_version": "1.2.0",
            "_view_name": "LayoutView",
            "align_content": null,
            "align_items": null,
            "align_self": null,
            "border": null,
            "bottom": null,
            "display": null,
            "flex": null,
            "flex_flow": null,
            "grid_area": null,
            "grid_auto_columns": null,
            "grid_auto_flow": null,
            "grid_auto_rows": null,
            "grid_column": null,
            "grid_gap": null,
            "grid_row": null,
            "grid_template_areas": null,
            "grid_template_columns": null,
            "grid_template_rows": null,
            "height": null,
            "justify_content": null,
            "justify_items": null,
            "left": null,
            "margin": null,
            "max_height": null,
            "max_width": null,
            "min_height": null,
            "min_width": null,
            "object_fit": null,
            "object_position": null,
            "order": null,
            "overflow": null,
            "overflow_x": null,
            "overflow_y": null,
            "padding": null,
            "right": null,
            "top": null,
            "visibility": null,
            "width": null
          }
        },
        "09665b8c0f2543fcbb49287bf97169cd": {
          "model_module": "@jupyter-widgets/controls",
          "model_module_version": "1.5.0",
          "model_name": "HTMLModel",
          "state": {
            "_dom_classes": [],
            "_model_module": "@jupyter-widgets/controls",
            "_model_module_version": "1.5.0",
            "_model_name": "HTMLModel",
            "_view_count": null,
            "_view_module": "@jupyter-widgets/controls",
            "_view_module_version": "1.5.0",
            "_view_name": "HTMLView",
            "description": "",
            "description_tooltip": null,
            "layout": "IPY_MODEL_32d8ee8683994c0ab93bd2049a299ca8",
            "placeholder": "​",
            "style": "IPY_MODEL_1046449aabd54f2c8c7610d15ae1d134",
            "value": "100%"
          }
        },
        "0a8b87530ab24ba2815553343139ec65": {
          "model_module": "@jupyter-widgets/controls",
          "model_module_version": "1.5.0",
          "model_name": "DescriptionStyleModel",
          "state": {
            "_model_module": "@jupyter-widgets/controls",
            "_model_module_version": "1.5.0",
            "_model_name": "DescriptionStyleModel",
            "_view_count": null,
            "_view_module": "@jupyter-widgets/base",
            "_view_module_version": "1.2.0",
            "_view_name": "StyleView",
            "description_width": ""
          }
        },
        "0ab90b17be1c4cc5a9aa67c8fab098eb": {
          "model_module": "@jupyter-widgets/controls",
          "model_module_version": "1.5.0",
          "model_name": "HBoxModel",
          "state": {
            "_dom_classes": [],
            "_model_module": "@jupyter-widgets/controls",
            "_model_module_version": "1.5.0",
            "_model_name": "HBoxModel",
            "_view_count": null,
            "_view_module": "@jupyter-widgets/controls",
            "_view_module_version": "1.5.0",
            "_view_name": "HBoxView",
            "box_style": "",
            "children": [
              "IPY_MODEL_24e59b1738544c75a683a96679ccfe34",
              "IPY_MODEL_b69926dc5c5741a8970d34fe17a09732",
              "IPY_MODEL_254a1b6245f84d42a233eea9040d7266"
            ],
            "layout": "IPY_MODEL_b05ca575cc384b7c9cd4a5575a8f8b97"
          }
        },
        "0c96cc2b7ca540e18136929708b01bc5": {
          "model_module": "@jupyter-widgets/controls",
          "model_module_version": "1.5.0",
          "model_name": "DescriptionStyleModel",
          "state": {
            "_model_module": "@jupyter-widgets/controls",
            "_model_module_version": "1.5.0",
            "_model_name": "DescriptionStyleModel",
            "_view_count": null,
            "_view_module": "@jupyter-widgets/base",
            "_view_module_version": "1.2.0",
            "_view_name": "StyleView",
            "description_width": ""
          }
        },
        "0f92e41f716e4070a45ebe741e40414e": {
          "model_module": "@jupyter-widgets/base",
          "model_module_version": "1.2.0",
          "model_name": "LayoutModel",
          "state": {
            "_model_module": "@jupyter-widgets/base",
            "_model_module_version": "1.2.0",
            "_model_name": "LayoutModel",
            "_view_count": null,
            "_view_module": "@jupyter-widgets/base",
            "_view_module_version": "1.2.0",
            "_view_name": "LayoutView",
            "align_content": null,
            "align_items": null,
            "align_self": null,
            "border": null,
            "bottom": null,
            "display": null,
            "flex": null,
            "flex_flow": null,
            "grid_area": null,
            "grid_auto_columns": null,
            "grid_auto_flow": null,
            "grid_auto_rows": null,
            "grid_column": null,
            "grid_gap": null,
            "grid_row": null,
            "grid_template_areas": null,
            "grid_template_columns": null,
            "grid_template_rows": null,
            "height": null,
            "justify_content": null,
            "justify_items": null,
            "left": null,
            "margin": null,
            "max_height": null,
            "max_width": null,
            "min_height": null,
            "min_width": null,
            "object_fit": null,
            "object_position": null,
            "order": null,
            "overflow": null,
            "overflow_x": null,
            "overflow_y": null,
            "padding": null,
            "right": null,
            "top": null,
            "visibility": null,
            "width": null
          }
        },
        "1046449aabd54f2c8c7610d15ae1d134": {
          "model_module": "@jupyter-widgets/controls",
          "model_module_version": "1.5.0",
          "model_name": "DescriptionStyleModel",
          "state": {
            "_model_module": "@jupyter-widgets/controls",
            "_model_module_version": "1.5.0",
            "_model_name": "DescriptionStyleModel",
            "_view_count": null,
            "_view_module": "@jupyter-widgets/base",
            "_view_module_version": "1.2.0",
            "_view_name": "StyleView",
            "description_width": ""
          }
        },
        "1321dbb9a75c4929bef51ddae3e0f824": {
          "model_module": "@jupyter-widgets/controls",
          "model_module_version": "1.5.0",
          "model_name": "FloatProgressModel",
          "state": {
            "_dom_classes": [],
            "_model_module": "@jupyter-widgets/controls",
            "_model_module_version": "1.5.0",
            "_model_name": "FloatProgressModel",
            "_view_count": null,
            "_view_module": "@jupyter-widgets/controls",
            "_view_module_version": "1.5.0",
            "_view_name": "ProgressView",
            "bar_style": "danger",
            "description": "",
            "description_tooltip": null,
            "layout": "IPY_MODEL_a4a298bbcef14a249d2ba8a64dd5cfd4",
            "max": 7600,
            "min": 0,
            "orientation": "horizontal",
            "style": "IPY_MODEL_678f5709df7445b5a9c36b6daf885263",
            "value": 7599
          }
        },
        "16269199c20f4727be3a39aa0f441b5c": {
          "model_module": "@jupyter-widgets/controls",
          "model_module_version": "1.5.0",
          "model_name": "DescriptionStyleModel",
          "state": {
            "_model_module": "@jupyter-widgets/controls",
            "_model_module_version": "1.5.0",
            "_model_name": "DescriptionStyleModel",
            "_view_count": null,
            "_view_module": "@jupyter-widgets/base",
            "_view_module_version": "1.2.0",
            "_view_name": "StyleView",
            "description_width": ""
          }
        },
        "17c08a2ce80f41bb8c76466ba15cd234": {
          "model_module": "@jupyter-widgets/controls",
          "model_module_version": "1.5.0",
          "model_name": "HTMLModel",
          "state": {
            "_dom_classes": [],
            "_model_module": "@jupyter-widgets/controls",
            "_model_module_version": "1.5.0",
            "_model_name": "HTMLModel",
            "_view_count": null,
            "_view_module": "@jupyter-widgets/controls",
            "_view_module_version": "1.5.0",
            "_view_name": "HTMLView",
            "description": "",
            "description_tooltip": null,
            "layout": "IPY_MODEL_694400b845a24de88b6b6b1ebdd8e3a3",
            "placeholder": "​",
            "style": "IPY_MODEL_dd6f9ecaf4c2492b8ee0f11b1d125e2d",
            "value": " 0/0 [00:00&lt;?, ? MiB/s]"
          }
        },
        "1a316d191de844d187508d1c30a308c8": {
          "model_module": "@jupyter-widgets/controls",
          "model_module_version": "1.5.0",
          "model_name": "HBoxModel",
          "state": {
            "_dom_classes": [],
            "_model_module": "@jupyter-widgets/controls",
            "_model_module_version": "1.5.0",
            "_model_name": "HBoxModel",
            "_view_count": null,
            "_view_module": "@jupyter-widgets/controls",
            "_view_module_version": "1.5.0",
            "_view_name": "HBoxView",
            "box_style": "",
            "children": [
              "IPY_MODEL_3d4929404cff4bccb6c44d728be5c45c",
              "IPY_MODEL_1321dbb9a75c4929bef51ddae3e0f824",
              "IPY_MODEL_83c66b16f33841bd8ac224e263f2c8d4"
            ],
            "layout": "IPY_MODEL_0347868cb61c44858d855a147186f92c"
          }
        },
        "1bf0c0aed70c4feeb11aa1caa620efaa": {
          "model_module": "@jupyter-widgets/controls",
          "model_module_version": "1.5.0",
          "model_name": "HTMLModel",
          "state": {
            "_dom_classes": [],
            "_model_module": "@jupyter-widgets/controls",
            "_model_module_version": "1.5.0",
            "_model_name": "HTMLModel",
            "_view_count": null,
            "_view_module": "@jupyter-widgets/controls",
            "_view_module_version": "1.5.0",
            "_view_name": "HTMLView",
            "description": "",
            "description_tooltip": null,
            "layout": "IPY_MODEL_cb608860a0384dbf906d24ae3b3f5c69",
            "placeholder": "​",
            "style": "IPY_MODEL_0c96cc2b7ca540e18136929708b01bc5",
            "value": "Extraction completed...: 100%"
          }
        },
        "212a0201edff44ce8d947bed3b500bf3": {
          "model_module": "@jupyter-widgets/controls",
          "model_module_version": "1.5.0",
          "model_name": "HBoxModel",
          "state": {
            "_dom_classes": [],
            "_model_module": "@jupyter-widgets/controls",
            "_model_module_version": "1.5.0",
            "_model_name": "HBoxModel",
            "_view_count": null,
            "_view_module": "@jupyter-widgets/controls",
            "_view_module_version": "1.5.0",
            "_view_name": "HBoxView",
            "box_style": "",
            "children": [
              "IPY_MODEL_8aeba74bdf9542039fb634b3bb310e56",
              "IPY_MODEL_4e4ecc4f8fa945aa9b682d6effed902a",
              "IPY_MODEL_eff3bf5d92fa4fd0ad9e102bab1d83d2"
            ],
            "layout": "IPY_MODEL_3c2a97e560fe46508a9046e67cbcfc40"
          }
        },
        "24e59b1738544c75a683a96679ccfe34": {
          "model_module": "@jupyter-widgets/controls",
          "model_module_version": "1.5.0",
          "model_name": "HTMLModel",
          "state": {
            "_dom_classes": [],
            "_model_module": "@jupyter-widgets/controls",
            "_model_module_version": "1.5.0",
            "_model_name": "HTMLModel",
            "_view_count": null,
            "_view_module": "@jupyter-widgets/controls",
            "_view_module_version": "1.5.0",
            "_view_name": "HTMLView",
            "description": "",
            "description_tooltip": null,
            "layout": "IPY_MODEL_9e1cd40e14c4466e872d6a82e1315752",
            "placeholder": "​",
            "style": "IPY_MODEL_3ae1377775c74082a0ec8e5d10b98758",
            "value": ""
          }
        },
        "254a1b6245f84d42a233eea9040d7266": {
          "model_module": "@jupyter-widgets/controls",
          "model_module_version": "1.5.0",
          "model_name": "HTMLModel",
          "state": {
            "_dom_classes": [],
            "_model_module": "@jupyter-widgets/controls",
            "_model_module_version": "1.5.0",
            "_model_name": "HTMLModel",
            "_view_count": null,
            "_view_module": "@jupyter-widgets/controls",
            "_view_module_version": "1.5.0",
            "_view_name": "HTMLView",
            "description": "",
            "description_tooltip": null,
            "layout": "IPY_MODEL_0f92e41f716e4070a45ebe741e40414e",
            "placeholder": "​",
            "style": "IPY_MODEL_f6ea7314d30c44939e37a896acab8c43",
            "value": " 7317/0 [00:01&lt;00:00, 3810.37 examples/s]"
          }
        },
        "29160dadfaf1415f8f9a8ce8ae7e375b": {
          "model_module": "@jupyter-widgets/controls",
          "model_module_version": "1.5.0",
          "model_name": "HTMLModel",
          "state": {
            "_dom_classes": [],
            "_model_module": "@jupyter-widgets/controls",
            "_model_module_version": "1.5.0",
            "_model_name": "HTMLModel",
            "_view_count": null,
            "_view_module": "@jupyter-widgets/controls",
            "_view_module_version": "1.5.0",
            "_view_name": "HTMLView",
            "description": "",
            "description_tooltip": null,
            "layout": "IPY_MODEL_4e64726b6d014f45a991c92620f4e7db",
            "placeholder": "​",
            "style": "IPY_MODEL_0a8b87530ab24ba2815553343139ec65",
            "value": " 0/0 [00:00&lt;?, ? url/s]"
          }
        },
        "2be9a0b3772c4f39a0bc1cfe2a4d2cd5": {
          "model_module": "@jupyter-widgets/controls",
          "model_module_version": "1.5.0",
          "model_name": "FloatProgressModel",
          "state": {
            "_dom_classes": [],
            "_model_module": "@jupyter-widgets/controls",
            "_model_module_version": "1.5.0",
            "_model_name": "FloatProgressModel",
            "_view_count": null,
            "_view_module": "@jupyter-widgets/controls",
            "_view_module_version": "1.5.0",
            "_view_name": "ProgressView",
            "bar_style": "danger",
            "description": "",
            "description_tooltip": null,
            "layout": "IPY_MODEL_673e5ed5c5c74e49ad93598bb2528667",
            "max": 120000,
            "min": 0,
            "orientation": "horizontal",
            "style": "IPY_MODEL_cea34ddb0f1a48e6838e587f24f62e36",
            "value": 119999
          }
        },
        "30f4ed56e0c04d88a4075548b7bd0a73": {
          "model_module": "@jupyter-widgets/base",
          "model_module_version": "1.2.0",
          "model_name": "LayoutModel",
          "state": {
            "_model_module": "@jupyter-widgets/base",
            "_model_module_version": "1.2.0",
            "_model_name": "LayoutModel",
            "_view_count": null,
            "_view_module": "@jupyter-widgets/base",
            "_view_module_version": "1.2.0",
            "_view_name": "LayoutView",
            "align_content": null,
            "align_items": null,
            "align_self": null,
            "border": null,
            "bottom": null,
            "display": null,
            "flex": null,
            "flex_flow": null,
            "grid_area": null,
            "grid_auto_columns": null,
            "grid_auto_flow": null,
            "grid_auto_rows": null,
            "grid_column": null,
            "grid_gap": null,
            "grid_row": null,
            "grid_template_areas": null,
            "grid_template_columns": null,
            "grid_template_rows": null,
            "height": null,
            "justify_content": null,
            "justify_items": null,
            "left": null,
            "margin": null,
            "max_height": null,
            "max_width": null,
            "min_height": null,
            "min_width": null,
            "object_fit": null,
            "object_position": null,
            "order": null,
            "overflow": null,
            "overflow_x": null,
            "overflow_y": null,
            "padding": null,
            "right": null,
            "top": null,
            "visibility": null,
            "width": null
          }
        },
        "32d8ee8683994c0ab93bd2049a299ca8": {
          "model_module": "@jupyter-widgets/base",
          "model_module_version": "1.2.0",
          "model_name": "LayoutModel",
          "state": {
            "_model_module": "@jupyter-widgets/base",
            "_model_module_version": "1.2.0",
            "_model_name": "LayoutModel",
            "_view_count": null,
            "_view_module": "@jupyter-widgets/base",
            "_view_module_version": "1.2.0",
            "_view_name": "LayoutView",
            "align_content": null,
            "align_items": null,
            "align_self": null,
            "border": null,
            "bottom": null,
            "display": null,
            "flex": null,
            "flex_flow": null,
            "grid_area": null,
            "grid_auto_columns": null,
            "grid_auto_flow": null,
            "grid_auto_rows": null,
            "grid_column": null,
            "grid_gap": null,
            "grid_row": null,
            "grid_template_areas": null,
            "grid_template_columns": null,
            "grid_template_rows": null,
            "height": null,
            "justify_content": null,
            "justify_items": null,
            "left": null,
            "margin": null,
            "max_height": null,
            "max_width": null,
            "min_height": null,
            "min_width": null,
            "object_fit": null,
            "object_position": null,
            "order": null,
            "overflow": null,
            "overflow_x": null,
            "overflow_y": null,
            "padding": null,
            "right": null,
            "top": null,
            "visibility": null,
            "width": null
          }
        },
        "369967d918b14495adac09813969bb34": {
          "model_module": "@jupyter-widgets/controls",
          "model_module_version": "1.5.0",
          "model_name": "HBoxModel",
          "state": {
            "_dom_classes": [],
            "_model_module": "@jupyter-widgets/controls",
            "_model_module_version": "1.5.0",
            "_model_name": "HBoxModel",
            "_view_count": null,
            "_view_module": "@jupyter-widgets/controls",
            "_view_module_version": "1.5.0",
            "_view_name": "HBoxView",
            "box_style": "",
            "children": [
              "IPY_MODEL_6f770deee504480089e615e3ab89ed91",
              "IPY_MODEL_c0f27029d0934705b0803aa944323128",
              "IPY_MODEL_29160dadfaf1415f8f9a8ce8ae7e375b"
            ],
            "layout": "IPY_MODEL_30f4ed56e0c04d88a4075548b7bd0a73"
          }
        },
        "3ae1377775c74082a0ec8e5d10b98758": {
          "model_module": "@jupyter-widgets/controls",
          "model_module_version": "1.5.0",
          "model_name": "DescriptionStyleModel",
          "state": {
            "_model_module": "@jupyter-widgets/controls",
            "_model_module_version": "1.5.0",
            "_model_name": "DescriptionStyleModel",
            "_view_count": null,
            "_view_module": "@jupyter-widgets/base",
            "_view_module_version": "1.2.0",
            "_view_name": "StyleView",
            "description_width": ""
          }
        },
        "3c2a97e560fe46508a9046e67cbcfc40": {
          "model_module": "@jupyter-widgets/base",
          "model_module_version": "1.2.0",
          "model_name": "LayoutModel",
          "state": {
            "_model_module": "@jupyter-widgets/base",
            "_model_module_version": "1.2.0",
            "_model_name": "LayoutModel",
            "_view_count": null,
            "_view_module": "@jupyter-widgets/base",
            "_view_module_version": "1.2.0",
            "_view_name": "LayoutView",
            "align_content": null,
            "align_items": null,
            "align_self": null,
            "border": null,
            "bottom": null,
            "display": null,
            "flex": null,
            "flex_flow": null,
            "grid_area": null,
            "grid_auto_columns": null,
            "grid_auto_flow": null,
            "grid_auto_rows": null,
            "grid_column": null,
            "grid_gap": null,
            "grid_row": null,
            "grid_template_areas": null,
            "grid_template_columns": null,
            "grid_template_rows": null,
            "height": null,
            "justify_content": null,
            "justify_items": null,
            "left": null,
            "margin": null,
            "max_height": null,
            "max_width": null,
            "min_height": null,
            "min_width": null,
            "object_fit": null,
            "object_position": null,
            "order": null,
            "overflow": null,
            "overflow_x": null,
            "overflow_y": null,
            "padding": null,
            "right": null,
            "top": null,
            "visibility": null,
            "width": null
          }
        },
        "3d2a1dbca4424d33b9910df6071ebd8b": {
          "model_module": "@jupyter-widgets/base",
          "model_module_version": "1.2.0",
          "model_name": "LayoutModel",
          "state": {
            "_model_module": "@jupyter-widgets/base",
            "_model_module_version": "1.2.0",
            "_model_name": "LayoutModel",
            "_view_count": null,
            "_view_module": "@jupyter-widgets/base",
            "_view_module_version": "1.2.0",
            "_view_name": "LayoutView",
            "align_content": null,
            "align_items": null,
            "align_self": null,
            "border": null,
            "bottom": null,
            "display": null,
            "flex": null,
            "flex_flow": null,
            "grid_area": null,
            "grid_auto_columns": null,
            "grid_auto_flow": null,
            "grid_auto_rows": null,
            "grid_column": null,
            "grid_gap": null,
            "grid_row": null,
            "grid_template_areas": null,
            "grid_template_columns": null,
            "grid_template_rows": null,
            "height": null,
            "justify_content": null,
            "justify_items": null,
            "left": null,
            "margin": null,
            "max_height": null,
            "max_width": null,
            "min_height": null,
            "min_width": null,
            "object_fit": null,
            "object_position": null,
            "order": null,
            "overflow": null,
            "overflow_x": null,
            "overflow_y": null,
            "padding": null,
            "right": null,
            "top": null,
            "visibility": null,
            "width": "20px"
          }
        },
        "3d4929404cff4bccb6c44d728be5c45c": {
          "model_module": "@jupyter-widgets/controls",
          "model_module_version": "1.5.0",
          "model_name": "HTMLModel",
          "state": {
            "_dom_classes": [],
            "_model_module": "@jupyter-widgets/controls",
            "_model_module_version": "1.5.0",
            "_model_name": "HTMLModel",
            "_view_count": null,
            "_view_module": "@jupyter-widgets/controls",
            "_view_module_version": "1.5.0",
            "_view_name": "HTMLView",
            "description": "",
            "description_tooltip": null,
            "layout": "IPY_MODEL_68f651c0fa194aef9530e4d438e0e670",
            "placeholder": "​",
            "style": "IPY_MODEL_de19d20521a343f5a5708db73a01fcc7",
            "value": "100%"
          }
        },
        "3e27ea9bc01541c4a6974f07406b3efb": {
          "model_module": "@jupyter-widgets/base",
          "model_module_version": "1.2.0",
          "model_name": "LayoutModel",
          "state": {
            "_model_module": "@jupyter-widgets/base",
            "_model_module_version": "1.2.0",
            "_model_name": "LayoutModel",
            "_view_count": null,
            "_view_module": "@jupyter-widgets/base",
            "_view_module_version": "1.2.0",
            "_view_name": "LayoutView",
            "align_content": null,
            "align_items": null,
            "align_self": null,
            "border": null,
            "bottom": null,
            "display": null,
            "flex": null,
            "flex_flow": null,
            "grid_area": null,
            "grid_auto_columns": null,
            "grid_auto_flow": null,
            "grid_auto_rows": null,
            "grid_column": null,
            "grid_gap": null,
            "grid_row": null,
            "grid_template_areas": null,
            "grid_template_columns": null,
            "grid_template_rows": null,
            "height": null,
            "justify_content": null,
            "justify_items": null,
            "left": null,
            "margin": null,
            "max_height": null,
            "max_width": null,
            "min_height": null,
            "min_width": null,
            "object_fit": null,
            "object_position": null,
            "order": null,
            "overflow": null,
            "overflow_x": null,
            "overflow_y": null,
            "padding": null,
            "right": null,
            "top": null,
            "visibility": null,
            "width": null
          }
        },
        "3ff1767b62814be68f52a06d3b32e59b": {
          "model_module": "@jupyter-widgets/base",
          "model_module_version": "1.2.0",
          "model_name": "LayoutModel",
          "state": {
            "_model_module": "@jupyter-widgets/base",
            "_model_module_version": "1.2.0",
            "_model_name": "LayoutModel",
            "_view_count": null,
            "_view_module": "@jupyter-widgets/base",
            "_view_module_version": "1.2.0",
            "_view_name": "LayoutView",
            "align_content": null,
            "align_items": null,
            "align_self": null,
            "border": null,
            "bottom": null,
            "display": null,
            "flex": null,
            "flex_flow": null,
            "grid_area": null,
            "grid_auto_columns": null,
            "grid_auto_flow": null,
            "grid_auto_rows": null,
            "grid_column": null,
            "grid_gap": null,
            "grid_row": null,
            "grid_template_areas": null,
            "grid_template_columns": null,
            "grid_template_rows": null,
            "height": null,
            "justify_content": null,
            "justify_items": null,
            "left": null,
            "margin": null,
            "max_height": null,
            "max_width": null,
            "min_height": null,
            "min_width": null,
            "object_fit": null,
            "object_position": null,
            "order": null,
            "overflow": null,
            "overflow_x": null,
            "overflow_y": null,
            "padding": null,
            "right": null,
            "top": null,
            "visibility": null,
            "width": null
          }
        },
        "4b9b4476b5814e37bc0d27a6037bf117": {
          "model_module": "@jupyter-widgets/base",
          "model_module_version": "1.2.0",
          "model_name": "LayoutModel",
          "state": {
            "_model_module": "@jupyter-widgets/base",
            "_model_module_version": "1.2.0",
            "_model_name": "LayoutModel",
            "_view_count": null,
            "_view_module": "@jupyter-widgets/base",
            "_view_module_version": "1.2.0",
            "_view_name": "LayoutView",
            "align_content": null,
            "align_items": null,
            "align_self": null,
            "border": null,
            "bottom": null,
            "display": null,
            "flex": null,
            "flex_flow": null,
            "grid_area": null,
            "grid_auto_columns": null,
            "grid_auto_flow": null,
            "grid_auto_rows": null,
            "grid_column": null,
            "grid_gap": null,
            "grid_row": null,
            "grid_template_areas": null,
            "grid_template_columns": null,
            "grid_template_rows": null,
            "height": null,
            "justify_content": null,
            "justify_items": null,
            "left": null,
            "margin": null,
            "max_height": null,
            "max_width": null,
            "min_height": null,
            "min_width": null,
            "object_fit": null,
            "object_position": null,
            "order": null,
            "overflow": null,
            "overflow_x": null,
            "overflow_y": null,
            "padding": null,
            "right": null,
            "top": null,
            "visibility": null,
            "width": null
          }
        },
        "4bd52b4aa67741869cbb8b00851eb3dc": {
          "model_module": "@jupyter-widgets/base",
          "model_module_version": "1.2.0",
          "model_name": "LayoutModel",
          "state": {
            "_model_module": "@jupyter-widgets/base",
            "_model_module_version": "1.2.0",
            "_model_name": "LayoutModel",
            "_view_count": null,
            "_view_module": "@jupyter-widgets/base",
            "_view_module_version": "1.2.0",
            "_view_name": "LayoutView",
            "align_content": null,
            "align_items": null,
            "align_self": null,
            "border": null,
            "bottom": null,
            "display": null,
            "flex": null,
            "flex_flow": null,
            "grid_area": null,
            "grid_auto_columns": null,
            "grid_auto_flow": null,
            "grid_auto_rows": null,
            "grid_column": null,
            "grid_gap": null,
            "grid_row": null,
            "grid_template_areas": null,
            "grid_template_columns": null,
            "grid_template_rows": null,
            "height": null,
            "justify_content": null,
            "justify_items": null,
            "left": null,
            "margin": null,
            "max_height": null,
            "max_width": null,
            "min_height": null,
            "min_width": null,
            "object_fit": null,
            "object_position": null,
            "order": null,
            "overflow": null,
            "overflow_x": null,
            "overflow_y": null,
            "padding": null,
            "right": null,
            "top": null,
            "visibility": null,
            "width": null
          }
        },
        "4e4ecc4f8fa945aa9b682d6effed902a": {
          "model_module": "@jupyter-widgets/controls",
          "model_module_version": "1.5.0",
          "model_name": "FloatProgressModel",
          "state": {
            "_dom_classes": [],
            "_model_module": "@jupyter-widgets/controls",
            "_model_module_version": "1.5.0",
            "_model_name": "FloatProgressModel",
            "_view_count": null,
            "_view_module": "@jupyter-widgets/controls",
            "_view_module_version": "1.5.0",
            "_view_name": "ProgressView",
            "bar_style": "info",
            "description": "",
            "description_tooltip": null,
            "layout": "IPY_MODEL_3d2a1dbca4424d33b9910df6071ebd8b",
            "max": 1,
            "min": 0,
            "orientation": "horizontal",
            "style": "IPY_MODEL_8a5aff714603496189e97f902515ab90",
            "value": 1
          }
        },
        "4e64726b6d014f45a991c92620f4e7db": {
          "model_module": "@jupyter-widgets/base",
          "model_module_version": "1.2.0",
          "model_name": "LayoutModel",
          "state": {
            "_model_module": "@jupyter-widgets/base",
            "_model_module_version": "1.2.0",
            "_model_name": "LayoutModel",
            "_view_count": null,
            "_view_module": "@jupyter-widgets/base",
            "_view_module_version": "1.2.0",
            "_view_name": "LayoutView",
            "align_content": null,
            "align_items": null,
            "align_self": null,
            "border": null,
            "bottom": null,
            "display": null,
            "flex": null,
            "flex_flow": null,
            "grid_area": null,
            "grid_auto_columns": null,
            "grid_auto_flow": null,
            "grid_auto_rows": null,
            "grid_column": null,
            "grid_gap": null,
            "grid_row": null,
            "grid_template_areas": null,
            "grid_template_columns": null,
            "grid_template_rows": null,
            "height": null,
            "justify_content": null,
            "justify_items": null,
            "left": null,
            "margin": null,
            "max_height": null,
            "max_width": null,
            "min_height": null,
            "min_width": null,
            "object_fit": null,
            "object_position": null,
            "order": null,
            "overflow": null,
            "overflow_x": null,
            "overflow_y": null,
            "padding": null,
            "right": null,
            "top": null,
            "visibility": null,
            "width": null
          }
        },
        "5792b437a86b42faac6c3913b18c0359": {
          "model_module": "@jupyter-widgets/controls",
          "model_module_version": "1.5.0",
          "model_name": "HBoxModel",
          "state": {
            "_dom_classes": [],
            "_model_module": "@jupyter-widgets/controls",
            "_model_module_version": "1.5.0",
            "_model_name": "HBoxModel",
            "_view_count": null,
            "_view_module": "@jupyter-widgets/controls",
            "_view_module_version": "1.5.0",
            "_view_name": "HBoxView",
            "box_style": "",
            "children": [
              "IPY_MODEL_09665b8c0f2543fcbb49287bf97169cd",
              "IPY_MODEL_2be9a0b3772c4f39a0bc1cfe2a4d2cd5",
              "IPY_MODEL_793319fbe8ba40be8ae47246a8709a25"
            ],
            "layout": "IPY_MODEL_3ff1767b62814be68f52a06d3b32e59b"
          }
        },
        "5eb2db9dbdb24b1cb9f59f3fbe99a9ed": {
          "model_module": "@jupyter-widgets/controls",
          "model_module_version": "1.5.0",
          "model_name": "FloatProgressModel",
          "state": {
            "_dom_classes": [],
            "_model_module": "@jupyter-widgets/controls",
            "_model_module_version": "1.5.0",
            "_model_name": "FloatProgressModel",
            "_view_count": null,
            "_view_module": "@jupyter-widgets/controls",
            "_view_module_version": "1.5.0",
            "_view_name": "ProgressView",
            "bar_style": "success",
            "description": "",
            "description_tooltip": null,
            "layout": "IPY_MODEL_deaaaa6d04394a42bb96e82f94b5a2f4",
            "max": 1,
            "min": 0,
            "orientation": "horizontal",
            "style": "IPY_MODEL_d8209c5e143248db9cd39704c9b5b41b",
            "value": 0
          }
        },
        "616c621c824947f3ace5f1ae84416473": {
          "model_module": "@jupyter-widgets/controls",
          "model_module_version": "1.5.0",
          "model_name": "DescriptionStyleModel",
          "state": {
            "_model_module": "@jupyter-widgets/controls",
            "_model_module_version": "1.5.0",
            "_model_name": "DescriptionStyleModel",
            "_view_count": null,
            "_view_module": "@jupyter-widgets/base",
            "_view_module_version": "1.2.0",
            "_view_name": "StyleView",
            "description_width": ""
          }
        },
        "627e5d35e80a4a3699ae35f9863434c7": {
          "model_module": "@jupyter-widgets/controls",
          "model_module_version": "1.5.0",
          "model_name": "DescriptionStyleModel",
          "state": {
            "_model_module": "@jupyter-widgets/controls",
            "_model_module_version": "1.5.0",
            "_model_name": "DescriptionStyleModel",
            "_view_count": null,
            "_view_module": "@jupyter-widgets/base",
            "_view_module_version": "1.2.0",
            "_view_name": "StyleView",
            "description_width": ""
          }
        },
        "64677141b20f4550819f4fb2905087ae": {
          "model_module": "@jupyter-widgets/controls",
          "model_module_version": "1.5.0",
          "model_name": "DescriptionStyleModel",
          "state": {
            "_model_module": "@jupyter-widgets/controls",
            "_model_module_version": "1.5.0",
            "_model_name": "DescriptionStyleModel",
            "_view_count": null,
            "_view_module": "@jupyter-widgets/base",
            "_view_module_version": "1.2.0",
            "_view_name": "StyleView",
            "description_width": ""
          }
        },
        "673e5ed5c5c74e49ad93598bb2528667": {
          "model_module": "@jupyter-widgets/base",
          "model_module_version": "1.2.0",
          "model_name": "LayoutModel",
          "state": {
            "_model_module": "@jupyter-widgets/base",
            "_model_module_version": "1.2.0",
            "_model_name": "LayoutModel",
            "_view_count": null,
            "_view_module": "@jupyter-widgets/base",
            "_view_module_version": "1.2.0",
            "_view_name": "LayoutView",
            "align_content": null,
            "align_items": null,
            "align_self": null,
            "border": null,
            "bottom": null,
            "display": null,
            "flex": null,
            "flex_flow": null,
            "grid_area": null,
            "grid_auto_columns": null,
            "grid_auto_flow": null,
            "grid_auto_rows": null,
            "grid_column": null,
            "grid_gap": null,
            "grid_row": null,
            "grid_template_areas": null,
            "grid_template_columns": null,
            "grid_template_rows": null,
            "height": null,
            "justify_content": null,
            "justify_items": null,
            "left": null,
            "margin": null,
            "max_height": null,
            "max_width": null,
            "min_height": null,
            "min_width": null,
            "object_fit": null,
            "object_position": null,
            "order": null,
            "overflow": null,
            "overflow_x": null,
            "overflow_y": null,
            "padding": null,
            "right": null,
            "top": null,
            "visibility": null,
            "width": null
          }
        },
        "678f5709df7445b5a9c36b6daf885263": {
          "model_module": "@jupyter-widgets/controls",
          "model_module_version": "1.5.0",
          "model_name": "ProgressStyleModel",
          "state": {
            "_model_module": "@jupyter-widgets/controls",
            "_model_module_version": "1.5.0",
            "_model_name": "ProgressStyleModel",
            "_view_count": null,
            "_view_module": "@jupyter-widgets/base",
            "_view_module_version": "1.2.0",
            "_view_name": "StyleView",
            "bar_color": null,
            "description_width": ""
          }
        },
        "68f651c0fa194aef9530e4d438e0e670": {
          "model_module": "@jupyter-widgets/base",
          "model_module_version": "1.2.0",
          "model_name": "LayoutModel",
          "state": {
            "_model_module": "@jupyter-widgets/base",
            "_model_module_version": "1.2.0",
            "_model_name": "LayoutModel",
            "_view_count": null,
            "_view_module": "@jupyter-widgets/base",
            "_view_module_version": "1.2.0",
            "_view_name": "LayoutView",
            "align_content": null,
            "align_items": null,
            "align_self": null,
            "border": null,
            "bottom": null,
            "display": null,
            "flex": null,
            "flex_flow": null,
            "grid_area": null,
            "grid_auto_columns": null,
            "grid_auto_flow": null,
            "grid_auto_rows": null,
            "grid_column": null,
            "grid_gap": null,
            "grid_row": null,
            "grid_template_areas": null,
            "grid_template_columns": null,
            "grid_template_rows": null,
            "height": null,
            "justify_content": null,
            "justify_items": null,
            "left": null,
            "margin": null,
            "max_height": null,
            "max_width": null,
            "min_height": null,
            "min_width": null,
            "object_fit": null,
            "object_position": null,
            "order": null,
            "overflow": null,
            "overflow_x": null,
            "overflow_y": null,
            "padding": null,
            "right": null,
            "top": null,
            "visibility": null,
            "width": null
          }
        },
        "694400b845a24de88b6b6b1ebdd8e3a3": {
          "model_module": "@jupyter-widgets/base",
          "model_module_version": "1.2.0",
          "model_name": "LayoutModel",
          "state": {
            "_model_module": "@jupyter-widgets/base",
            "_model_module_version": "1.2.0",
            "_model_name": "LayoutModel",
            "_view_count": null,
            "_view_module": "@jupyter-widgets/base",
            "_view_module_version": "1.2.0",
            "_view_name": "LayoutView",
            "align_content": null,
            "align_items": null,
            "align_self": null,
            "border": null,
            "bottom": null,
            "display": null,
            "flex": null,
            "flex_flow": null,
            "grid_area": null,
            "grid_auto_columns": null,
            "grid_auto_flow": null,
            "grid_auto_rows": null,
            "grid_column": null,
            "grid_gap": null,
            "grid_row": null,
            "grid_template_areas": null,
            "grid_template_columns": null,
            "grid_template_rows": null,
            "height": null,
            "justify_content": null,
            "justify_items": null,
            "left": null,
            "margin": null,
            "max_height": null,
            "max_width": null,
            "min_height": null,
            "min_width": null,
            "object_fit": null,
            "object_position": null,
            "order": null,
            "overflow": null,
            "overflow_x": null,
            "overflow_y": null,
            "padding": null,
            "right": null,
            "top": null,
            "visibility": null,
            "width": null
          }
        },
        "6f770deee504480089e615e3ab89ed91": {
          "model_module": "@jupyter-widgets/controls",
          "model_module_version": "1.5.0",
          "model_name": "HTMLModel",
          "state": {
            "_dom_classes": [],
            "_model_module": "@jupyter-widgets/controls",
            "_model_module_version": "1.5.0",
            "_model_name": "HTMLModel",
            "_view_count": null,
            "_view_module": "@jupyter-widgets/controls",
            "_view_module_version": "1.5.0",
            "_view_name": "HTMLView",
            "description": "",
            "description_tooltip": null,
            "layout": "IPY_MODEL_b25ec09f59cf4042854d845a94785360",
            "placeholder": "​",
            "style": "IPY_MODEL_aa78e716c07e4e45ab4771e06635053a",
            "value": "Dl Completed...: "
          }
        },
        "793319fbe8ba40be8ae47246a8709a25": {
          "model_module": "@jupyter-widgets/controls",
          "model_module_version": "1.5.0",
          "model_name": "HTMLModel",
          "state": {
            "_dom_classes": [],
            "_model_module": "@jupyter-widgets/controls",
            "_model_module_version": "1.5.0",
            "_model_name": "HTMLModel",
            "_view_count": null,
            "_view_module": "@jupyter-widgets/controls",
            "_view_module_version": "1.5.0",
            "_view_name": "HTMLView",
            "description": "",
            "description_tooltip": null,
            "layout": "IPY_MODEL_3e27ea9bc01541c4a6974f07406b3efb",
            "placeholder": "​",
            "style": "IPY_MODEL_627e5d35e80a4a3699ae35f9863434c7",
            "value": " 119999/120000 [00:00&lt;00:00, 219603.22 examples/s]"
          }
        },
        "83c66b16f33841bd8ac224e263f2c8d4": {
          "model_module": "@jupyter-widgets/controls",
          "model_module_version": "1.5.0",
          "model_name": "HTMLModel",
          "state": {
            "_dom_classes": [],
            "_model_module": "@jupyter-widgets/controls",
            "_model_module_version": "1.5.0",
            "_model_name": "HTMLModel",
            "_view_count": null,
            "_view_module": "@jupyter-widgets/controls",
            "_view_module_version": "1.5.0",
            "_view_name": "HTMLView",
            "description": "",
            "description_tooltip": null,
            "layout": "IPY_MODEL_9e17e03f9d0b48e1b7e03b2861694343",
            "placeholder": "​",
            "style": "IPY_MODEL_eb85b4e2606e4cc79f3e540cc6fa9a78",
            "value": " 7599/7600 [00:00&lt;00:00, 83334.68 examples/s]"
          }
        },
        "87fd458feceb421fad27a81cb43b5959": {
          "model_module": "@jupyter-widgets/base",
          "model_module_version": "1.2.0",
          "model_name": "LayoutModel",
          "state": {
            "_model_module": "@jupyter-widgets/base",
            "_model_module_version": "1.2.0",
            "_model_name": "LayoutModel",
            "_view_count": null,
            "_view_module": "@jupyter-widgets/base",
            "_view_module_version": "1.2.0",
            "_view_name": "LayoutView",
            "align_content": null,
            "align_items": null,
            "align_self": null,
            "border": null,
            "bottom": null,
            "display": null,
            "flex": null,
            "flex_flow": null,
            "grid_area": null,
            "grid_auto_columns": null,
            "grid_auto_flow": null,
            "grid_auto_rows": null,
            "grid_column": null,
            "grid_gap": null,
            "grid_row": null,
            "grid_template_areas": null,
            "grid_template_columns": null,
            "grid_template_rows": null,
            "height": null,
            "justify_content": null,
            "justify_items": null,
            "left": null,
            "margin": null,
            "max_height": null,
            "max_width": null,
            "min_height": null,
            "min_width": null,
            "object_fit": null,
            "object_position": null,
            "order": null,
            "overflow": null,
            "overflow_x": null,
            "overflow_y": null,
            "padding": null,
            "right": null,
            "top": null,
            "visibility": null,
            "width": null
          }
        },
        "8a5aff714603496189e97f902515ab90": {
          "model_module": "@jupyter-widgets/controls",
          "model_module_version": "1.5.0",
          "model_name": "ProgressStyleModel",
          "state": {
            "_model_module": "@jupyter-widgets/controls",
            "_model_module_version": "1.5.0",
            "_model_name": "ProgressStyleModel",
            "_view_count": null,
            "_view_module": "@jupyter-widgets/base",
            "_view_module_version": "1.2.0",
            "_view_name": "StyleView",
            "bar_color": null,
            "description_width": ""
          }
        },
        "8aeba74bdf9542039fb634b3bb310e56": {
          "model_module": "@jupyter-widgets/controls",
          "model_module_version": "1.5.0",
          "model_name": "HTMLModel",
          "state": {
            "_dom_classes": [],
            "_model_module": "@jupyter-widgets/controls",
            "_model_module_version": "1.5.0",
            "_model_name": "HTMLModel",
            "_view_count": null,
            "_view_module": "@jupyter-widgets/controls",
            "_view_module_version": "1.5.0",
            "_view_name": "HTMLView",
            "description": "",
            "description_tooltip": null,
            "layout": "IPY_MODEL_4bd52b4aa67741869cbb8b00851eb3dc",
            "placeholder": "​",
            "style": "IPY_MODEL_64677141b20f4550819f4fb2905087ae",
            "value": ""
          }
        },
        "9110e32417794d53a229de9e8367c02c": {
          "model_module": "@jupyter-widgets/controls",
          "model_module_version": "1.5.0",
          "model_name": "HTMLModel",
          "state": {
            "_dom_classes": [],
            "_model_module": "@jupyter-widgets/controls",
            "_model_module_version": "1.5.0",
            "_model_name": "HTMLModel",
            "_view_count": null,
            "_view_module": "@jupyter-widgets/controls",
            "_view_module_version": "1.5.0",
            "_view_name": "HTMLView",
            "description": "",
            "description_tooltip": null,
            "layout": "IPY_MODEL_4b9b4476b5814e37bc0d27a6037bf117",
            "placeholder": "​",
            "style": "IPY_MODEL_9eb99ee3bf72470d91847cd4894f12a3",
            "value": " 1/1 [00:00&lt;00:00,  1.96 file/s]"
          }
        },
        "91e96c1980fb4c0b90b79deb79e3ad1b": {
          "model_module": "@jupyter-widgets/base",
          "model_module_version": "1.2.0",
          "model_name": "LayoutModel",
          "state": {
            "_model_module": "@jupyter-widgets/base",
            "_model_module_version": "1.2.0",
            "_model_name": "LayoutModel",
            "_view_count": null,
            "_view_module": "@jupyter-widgets/base",
            "_view_module_version": "1.2.0",
            "_view_name": "LayoutView",
            "align_content": null,
            "align_items": null,
            "align_self": null,
            "border": null,
            "bottom": null,
            "display": null,
            "flex": null,
            "flex_flow": null,
            "grid_area": null,
            "grid_auto_columns": null,
            "grid_auto_flow": null,
            "grid_auto_rows": null,
            "grid_column": null,
            "grid_gap": null,
            "grid_row": null,
            "grid_template_areas": null,
            "grid_template_columns": null,
            "grid_template_rows": null,
            "height": null,
            "justify_content": null,
            "justify_items": null,
            "left": null,
            "margin": null,
            "max_height": null,
            "max_width": null,
            "min_height": null,
            "min_width": null,
            "object_fit": null,
            "object_position": null,
            "order": null,
            "overflow": null,
            "overflow_x": null,
            "overflow_y": null,
            "padding": null,
            "right": null,
            "top": null,
            "visibility": null,
            "width": null
          }
        },
        "97be00500fdd459586a4a586c889db15": {
          "model_module": "@jupyter-widgets/base",
          "model_module_version": "1.2.0",
          "model_name": "LayoutModel",
          "state": {
            "_model_module": "@jupyter-widgets/base",
            "_model_module_version": "1.2.0",
            "_model_name": "LayoutModel",
            "_view_count": null,
            "_view_module": "@jupyter-widgets/base",
            "_view_module_version": "1.2.0",
            "_view_name": "LayoutView",
            "align_content": null,
            "align_items": null,
            "align_self": null,
            "border": null,
            "bottom": null,
            "display": null,
            "flex": null,
            "flex_flow": null,
            "grid_area": null,
            "grid_auto_columns": null,
            "grid_auto_flow": null,
            "grid_auto_rows": null,
            "grid_column": null,
            "grid_gap": null,
            "grid_row": null,
            "grid_template_areas": null,
            "grid_template_columns": null,
            "grid_template_rows": null,
            "height": null,
            "justify_content": null,
            "justify_items": null,
            "left": null,
            "margin": null,
            "max_height": null,
            "max_width": null,
            "min_height": null,
            "min_width": null,
            "object_fit": null,
            "object_position": null,
            "order": null,
            "overflow": null,
            "overflow_x": null,
            "overflow_y": null,
            "padding": null,
            "right": null,
            "top": null,
            "visibility": null,
            "width": "20px"
          }
        },
        "9c627dc9b6a8426484dbdf4d988dacab": {
          "model_module": "@jupyter-widgets/controls",
          "model_module_version": "1.5.0",
          "model_name": "HBoxModel",
          "state": {
            "_dom_classes": [],
            "_model_module": "@jupyter-widgets/controls",
            "_model_module_version": "1.5.0",
            "_model_name": "HBoxModel",
            "_view_count": null,
            "_view_module": "@jupyter-widgets/controls",
            "_view_module_version": "1.5.0",
            "_view_name": "HBoxView",
            "box_style": "",
            "children": [
              "IPY_MODEL_1bf0c0aed70c4feeb11aa1caa620efaa",
              "IPY_MODEL_fd561d6abe004835813af0b667201ad0",
              "IPY_MODEL_9110e32417794d53a229de9e8367c02c"
            ],
            "layout": "IPY_MODEL_dfc0092e9a9c43379ddc09b121c26ed6"
          }
        },
        "9e17e03f9d0b48e1b7e03b2861694343": {
          "model_module": "@jupyter-widgets/base",
          "model_module_version": "1.2.0",
          "model_name": "LayoutModel",
          "state": {
            "_model_module": "@jupyter-widgets/base",
            "_model_module_version": "1.2.0",
            "_model_name": "LayoutModel",
            "_view_count": null,
            "_view_module": "@jupyter-widgets/base",
            "_view_module_version": "1.2.0",
            "_view_name": "LayoutView",
            "align_content": null,
            "align_items": null,
            "align_self": null,
            "border": null,
            "bottom": null,
            "display": null,
            "flex": null,
            "flex_flow": null,
            "grid_area": null,
            "grid_auto_columns": null,
            "grid_auto_flow": null,
            "grid_auto_rows": null,
            "grid_column": null,
            "grid_gap": null,
            "grid_row": null,
            "grid_template_areas": null,
            "grid_template_columns": null,
            "grid_template_rows": null,
            "height": null,
            "justify_content": null,
            "justify_items": null,
            "left": null,
            "margin": null,
            "max_height": null,
            "max_width": null,
            "min_height": null,
            "min_width": null,
            "object_fit": null,
            "object_position": null,
            "order": null,
            "overflow": null,
            "overflow_x": null,
            "overflow_y": null,
            "padding": null,
            "right": null,
            "top": null,
            "visibility": null,
            "width": null
          }
        },
        "9e1cd40e14c4466e872d6a82e1315752": {
          "model_module": "@jupyter-widgets/base",
          "model_module_version": "1.2.0",
          "model_name": "LayoutModel",
          "state": {
            "_model_module": "@jupyter-widgets/base",
            "_model_module_version": "1.2.0",
            "_model_name": "LayoutModel",
            "_view_count": null,
            "_view_module": "@jupyter-widgets/base",
            "_view_module_version": "1.2.0",
            "_view_name": "LayoutView",
            "align_content": null,
            "align_items": null,
            "align_self": null,
            "border": null,
            "bottom": null,
            "display": null,
            "flex": null,
            "flex_flow": null,
            "grid_area": null,
            "grid_auto_columns": null,
            "grid_auto_flow": null,
            "grid_auto_rows": null,
            "grid_column": null,
            "grid_gap": null,
            "grid_row": null,
            "grid_template_areas": null,
            "grid_template_columns": null,
            "grid_template_rows": null,
            "height": null,
            "justify_content": null,
            "justify_items": null,
            "left": null,
            "margin": null,
            "max_height": null,
            "max_width": null,
            "min_height": null,
            "min_width": null,
            "object_fit": null,
            "object_position": null,
            "order": null,
            "overflow": null,
            "overflow_x": null,
            "overflow_y": null,
            "padding": null,
            "right": null,
            "top": null,
            "visibility": null,
            "width": null
          }
        },
        "9eb99ee3bf72470d91847cd4894f12a3": {
          "model_module": "@jupyter-widgets/controls",
          "model_module_version": "1.5.0",
          "model_name": "DescriptionStyleModel",
          "state": {
            "_model_module": "@jupyter-widgets/controls",
            "_model_module_version": "1.5.0",
            "_model_name": "DescriptionStyleModel",
            "_view_count": null,
            "_view_module": "@jupyter-widgets/base",
            "_view_module_version": "1.2.0",
            "_view_name": "StyleView",
            "description_width": ""
          }
        },
        "a4a298bbcef14a249d2ba8a64dd5cfd4": {
          "model_module": "@jupyter-widgets/base",
          "model_module_version": "1.2.0",
          "model_name": "LayoutModel",
          "state": {
            "_model_module": "@jupyter-widgets/base",
            "_model_module_version": "1.2.0",
            "_model_name": "LayoutModel",
            "_view_count": null,
            "_view_module": "@jupyter-widgets/base",
            "_view_module_version": "1.2.0",
            "_view_name": "LayoutView",
            "align_content": null,
            "align_items": null,
            "align_self": null,
            "border": null,
            "bottom": null,
            "display": null,
            "flex": null,
            "flex_flow": null,
            "grid_area": null,
            "grid_auto_columns": null,
            "grid_auto_flow": null,
            "grid_auto_rows": null,
            "grid_column": null,
            "grid_gap": null,
            "grid_row": null,
            "grid_template_areas": null,
            "grid_template_columns": null,
            "grid_template_rows": null,
            "height": null,
            "justify_content": null,
            "justify_items": null,
            "left": null,
            "margin": null,
            "max_height": null,
            "max_width": null,
            "min_height": null,
            "min_width": null,
            "object_fit": null,
            "object_position": null,
            "order": null,
            "overflow": null,
            "overflow_x": null,
            "overflow_y": null,
            "padding": null,
            "right": null,
            "top": null,
            "visibility": null,
            "width": null
          }
        },
        "a4f50fd7ea884d8b8e161f24b647c942": {
          "model_module": "@jupyter-widgets/controls",
          "model_module_version": "1.5.0",
          "model_name": "ProgressStyleModel",
          "state": {
            "_model_module": "@jupyter-widgets/controls",
            "_model_module_version": "1.5.0",
            "_model_name": "ProgressStyleModel",
            "_view_count": null,
            "_view_module": "@jupyter-widgets/base",
            "_view_module_version": "1.2.0",
            "_view_name": "StyleView",
            "bar_color": null,
            "description_width": ""
          }
        },
        "a88bbad604f74606861092c7fcc13d65": {
          "model_module": "@jupyter-widgets/controls",
          "model_module_version": "1.5.0",
          "model_name": "HBoxModel",
          "state": {
            "_dom_classes": [],
            "_model_module": "@jupyter-widgets/controls",
            "_model_module_version": "1.5.0",
            "_model_name": "HBoxModel",
            "_view_count": null,
            "_view_module": "@jupyter-widgets/controls",
            "_view_module_version": "1.5.0",
            "_view_name": "HBoxView",
            "box_style": "",
            "children": [
              "IPY_MODEL_cd317a90392e4edcaff9616637466046",
              "IPY_MODEL_5eb2db9dbdb24b1cb9f59f3fbe99a9ed",
              "IPY_MODEL_17c08a2ce80f41bb8c76466ba15cd234"
            ],
            "layout": "IPY_MODEL_91e96c1980fb4c0b90b79deb79e3ad1b"
          }
        },
        "aa78e716c07e4e45ab4771e06635053a": {
          "model_module": "@jupyter-widgets/controls",
          "model_module_version": "1.5.0",
          "model_name": "DescriptionStyleModel",
          "state": {
            "_model_module": "@jupyter-widgets/controls",
            "_model_module_version": "1.5.0",
            "_model_name": "DescriptionStyleModel",
            "_view_count": null,
            "_view_module": "@jupyter-widgets/base",
            "_view_module_version": "1.2.0",
            "_view_name": "StyleView",
            "description_width": ""
          }
        },
        "ad9e316e5a824954a6dab4a549cab7d5": {
          "model_module": "@jupyter-widgets/base",
          "model_module_version": "1.2.0",
          "model_name": "LayoutModel",
          "state": {
            "_model_module": "@jupyter-widgets/base",
            "_model_module_version": "1.2.0",
            "_model_name": "LayoutModel",
            "_view_count": null,
            "_view_module": "@jupyter-widgets/base",
            "_view_module_version": "1.2.0",
            "_view_name": "LayoutView",
            "align_content": null,
            "align_items": null,
            "align_self": null,
            "border": null,
            "bottom": null,
            "display": null,
            "flex": null,
            "flex_flow": null,
            "grid_area": null,
            "grid_auto_columns": null,
            "grid_auto_flow": null,
            "grid_auto_rows": null,
            "grid_column": null,
            "grid_gap": null,
            "grid_row": null,
            "grid_template_areas": null,
            "grid_template_columns": null,
            "grid_template_rows": null,
            "height": null,
            "justify_content": null,
            "justify_items": null,
            "left": null,
            "margin": null,
            "max_height": null,
            "max_width": null,
            "min_height": null,
            "min_width": null,
            "object_fit": null,
            "object_position": null,
            "order": null,
            "overflow": null,
            "overflow_x": null,
            "overflow_y": null,
            "padding": null,
            "right": null,
            "top": null,
            "visibility": null,
            "width": "20px"
          }
        },
        "b05ca575cc384b7c9cd4a5575a8f8b97": {
          "model_module": "@jupyter-widgets/base",
          "model_module_version": "1.2.0",
          "model_name": "LayoutModel",
          "state": {
            "_model_module": "@jupyter-widgets/base",
            "_model_module_version": "1.2.0",
            "_model_name": "LayoutModel",
            "_view_count": null,
            "_view_module": "@jupyter-widgets/base",
            "_view_module_version": "1.2.0",
            "_view_name": "LayoutView",
            "align_content": null,
            "align_items": null,
            "align_self": null,
            "border": null,
            "bottom": null,
            "display": null,
            "flex": null,
            "flex_flow": null,
            "grid_area": null,
            "grid_auto_columns": null,
            "grid_auto_flow": null,
            "grid_auto_rows": null,
            "grid_column": null,
            "grid_gap": null,
            "grid_row": null,
            "grid_template_areas": null,
            "grid_template_columns": null,
            "grid_template_rows": null,
            "height": null,
            "justify_content": null,
            "justify_items": null,
            "left": null,
            "margin": null,
            "max_height": null,
            "max_width": null,
            "min_height": null,
            "min_width": null,
            "object_fit": null,
            "object_position": null,
            "order": null,
            "overflow": null,
            "overflow_x": null,
            "overflow_y": null,
            "padding": null,
            "right": null,
            "top": null,
            "visibility": null,
            "width": null
          }
        },
        "b25ec09f59cf4042854d845a94785360": {
          "model_module": "@jupyter-widgets/base",
          "model_module_version": "1.2.0",
          "model_name": "LayoutModel",
          "state": {
            "_model_module": "@jupyter-widgets/base",
            "_model_module_version": "1.2.0",
            "_model_name": "LayoutModel",
            "_view_count": null,
            "_view_module": "@jupyter-widgets/base",
            "_view_module_version": "1.2.0",
            "_view_name": "LayoutView",
            "align_content": null,
            "align_items": null,
            "align_self": null,
            "border": null,
            "bottom": null,
            "display": null,
            "flex": null,
            "flex_flow": null,
            "grid_area": null,
            "grid_auto_columns": null,
            "grid_auto_flow": null,
            "grid_auto_rows": null,
            "grid_column": null,
            "grid_gap": null,
            "grid_row": null,
            "grid_template_areas": null,
            "grid_template_columns": null,
            "grid_template_rows": null,
            "height": null,
            "justify_content": null,
            "justify_items": null,
            "left": null,
            "margin": null,
            "max_height": null,
            "max_width": null,
            "min_height": null,
            "min_width": null,
            "object_fit": null,
            "object_position": null,
            "order": null,
            "overflow": null,
            "overflow_x": null,
            "overflow_y": null,
            "padding": null,
            "right": null,
            "top": null,
            "visibility": null,
            "width": null
          }
        },
        "b69926dc5c5741a8970d34fe17a09732": {
          "model_module": "@jupyter-widgets/controls",
          "model_module_version": "1.5.0",
          "model_name": "FloatProgressModel",
          "state": {
            "_dom_classes": [],
            "_model_module": "@jupyter-widgets/controls",
            "_model_module_version": "1.5.0",
            "_model_name": "FloatProgressModel",
            "_view_count": null,
            "_view_module": "@jupyter-widgets/controls",
            "_view_module_version": "1.5.0",
            "_view_name": "ProgressView",
            "bar_style": "info",
            "description": "",
            "description_tooltip": null,
            "layout": "IPY_MODEL_ad9e316e5a824954a6dab4a549cab7d5",
            "max": 1,
            "min": 0,
            "orientation": "horizontal",
            "style": "IPY_MODEL_e1b6e98d72134cf8a9142814fffed507",
            "value": 1
          }
        },
        "c0f27029d0934705b0803aa944323128": {
          "model_module": "@jupyter-widgets/controls",
          "model_module_version": "1.5.0",
          "model_name": "FloatProgressModel",
          "state": {
            "_dom_classes": [],
            "_model_module": "@jupyter-widgets/controls",
            "_model_module_version": "1.5.0",
            "_model_name": "FloatProgressModel",
            "_view_count": null,
            "_view_module": "@jupyter-widgets/controls",
            "_view_module_version": "1.5.0",
            "_view_name": "ProgressView",
            "bar_style": "success",
            "description": "",
            "description_tooltip": null,
            "layout": "IPY_MODEL_c508b33f99864dbd84bfb307c13ff3d5",
            "max": 1,
            "min": 0,
            "orientation": "horizontal",
            "style": "IPY_MODEL_a4f50fd7ea884d8b8e161f24b647c942",
            "value": 0
          }
        },
        "c508b33f99864dbd84bfb307c13ff3d5": {
          "model_module": "@jupyter-widgets/base",
          "model_module_version": "1.2.0",
          "model_name": "LayoutModel",
          "state": {
            "_model_module": "@jupyter-widgets/base",
            "_model_module_version": "1.2.0",
            "_model_name": "LayoutModel",
            "_view_count": null,
            "_view_module": "@jupyter-widgets/base",
            "_view_module_version": "1.2.0",
            "_view_name": "LayoutView",
            "align_content": null,
            "align_items": null,
            "align_self": null,
            "border": null,
            "bottom": null,
            "display": null,
            "flex": null,
            "flex_flow": null,
            "grid_area": null,
            "grid_auto_columns": null,
            "grid_auto_flow": null,
            "grid_auto_rows": null,
            "grid_column": null,
            "grid_gap": null,
            "grid_row": null,
            "grid_template_areas": null,
            "grid_template_columns": null,
            "grid_template_rows": null,
            "height": null,
            "justify_content": null,
            "justify_items": null,
            "left": null,
            "margin": null,
            "max_height": null,
            "max_width": null,
            "min_height": null,
            "min_width": null,
            "object_fit": null,
            "object_position": null,
            "order": null,
            "overflow": null,
            "overflow_x": null,
            "overflow_y": null,
            "padding": null,
            "right": null,
            "top": null,
            "visibility": null,
            "width": "20px"
          }
        },
        "cb608860a0384dbf906d24ae3b3f5c69": {
          "model_module": "@jupyter-widgets/base",
          "model_module_version": "1.2.0",
          "model_name": "LayoutModel",
          "state": {
            "_model_module": "@jupyter-widgets/base",
            "_model_module_version": "1.2.0",
            "_model_name": "LayoutModel",
            "_view_count": null,
            "_view_module": "@jupyter-widgets/base",
            "_view_module_version": "1.2.0",
            "_view_name": "LayoutView",
            "align_content": null,
            "align_items": null,
            "align_self": null,
            "border": null,
            "bottom": null,
            "display": null,
            "flex": null,
            "flex_flow": null,
            "grid_area": null,
            "grid_auto_columns": null,
            "grid_auto_flow": null,
            "grid_auto_rows": null,
            "grid_column": null,
            "grid_gap": null,
            "grid_row": null,
            "grid_template_areas": null,
            "grid_template_columns": null,
            "grid_template_rows": null,
            "height": null,
            "justify_content": null,
            "justify_items": null,
            "left": null,
            "margin": null,
            "max_height": null,
            "max_width": null,
            "min_height": null,
            "min_width": null,
            "object_fit": null,
            "object_position": null,
            "order": null,
            "overflow": null,
            "overflow_x": null,
            "overflow_y": null,
            "padding": null,
            "right": null,
            "top": null,
            "visibility": null,
            "width": null
          }
        },
        "cd317a90392e4edcaff9616637466046": {
          "model_module": "@jupyter-widgets/controls",
          "model_module_version": "1.5.0",
          "model_name": "HTMLModel",
          "state": {
            "_dom_classes": [],
            "_model_module": "@jupyter-widgets/controls",
            "_model_module_version": "1.5.0",
            "_model_name": "HTMLModel",
            "_view_count": null,
            "_view_module": "@jupyter-widgets/controls",
            "_view_module_version": "1.5.0",
            "_view_name": "HTMLView",
            "description": "",
            "description_tooltip": null,
            "layout": "IPY_MODEL_87fd458feceb421fad27a81cb43b5959",
            "placeholder": "​",
            "style": "IPY_MODEL_16269199c20f4727be3a39aa0f441b5c",
            "value": "Dl Size...: "
          }
        },
        "cea34ddb0f1a48e6838e587f24f62e36": {
          "model_module": "@jupyter-widgets/controls",
          "model_module_version": "1.5.0",
          "model_name": "ProgressStyleModel",
          "state": {
            "_model_module": "@jupyter-widgets/controls",
            "_model_module_version": "1.5.0",
            "_model_name": "ProgressStyleModel",
            "_view_count": null,
            "_view_module": "@jupyter-widgets/base",
            "_view_module_version": "1.2.0",
            "_view_name": "StyleView",
            "bar_color": null,
            "description_width": ""
          }
        },
        "d8209c5e143248db9cd39704c9b5b41b": {
          "model_module": "@jupyter-widgets/controls",
          "model_module_version": "1.5.0",
          "model_name": "ProgressStyleModel",
          "state": {
            "_model_module": "@jupyter-widgets/controls",
            "_model_module_version": "1.5.0",
            "_model_name": "ProgressStyleModel",
            "_view_count": null,
            "_view_module": "@jupyter-widgets/base",
            "_view_module_version": "1.2.0",
            "_view_name": "StyleView",
            "bar_color": null,
            "description_width": ""
          }
        },
        "dd6f9ecaf4c2492b8ee0f11b1d125e2d": {
          "model_module": "@jupyter-widgets/controls",
          "model_module_version": "1.5.0",
          "model_name": "DescriptionStyleModel",
          "state": {
            "_model_module": "@jupyter-widgets/controls",
            "_model_module_version": "1.5.0",
            "_model_name": "DescriptionStyleModel",
            "_view_count": null,
            "_view_module": "@jupyter-widgets/base",
            "_view_module_version": "1.2.0",
            "_view_name": "StyleView",
            "description_width": ""
          }
        },
        "de19d20521a343f5a5708db73a01fcc7": {
          "model_module": "@jupyter-widgets/controls",
          "model_module_version": "1.5.0",
          "model_name": "DescriptionStyleModel",
          "state": {
            "_model_module": "@jupyter-widgets/controls",
            "_model_module_version": "1.5.0",
            "_model_name": "DescriptionStyleModel",
            "_view_count": null,
            "_view_module": "@jupyter-widgets/base",
            "_view_module_version": "1.2.0",
            "_view_name": "StyleView",
            "description_width": ""
          }
        },
        "deaaaa6d04394a42bb96e82f94b5a2f4": {
          "model_module": "@jupyter-widgets/base",
          "model_module_version": "1.2.0",
          "model_name": "LayoutModel",
          "state": {
            "_model_module": "@jupyter-widgets/base",
            "_model_module_version": "1.2.0",
            "_model_name": "LayoutModel",
            "_view_count": null,
            "_view_module": "@jupyter-widgets/base",
            "_view_module_version": "1.2.0",
            "_view_name": "LayoutView",
            "align_content": null,
            "align_items": null,
            "align_self": null,
            "border": null,
            "bottom": null,
            "display": null,
            "flex": null,
            "flex_flow": null,
            "grid_area": null,
            "grid_auto_columns": null,
            "grid_auto_flow": null,
            "grid_auto_rows": null,
            "grid_column": null,
            "grid_gap": null,
            "grid_row": null,
            "grid_template_areas": null,
            "grid_template_columns": null,
            "grid_template_rows": null,
            "height": null,
            "justify_content": null,
            "justify_items": null,
            "left": null,
            "margin": null,
            "max_height": null,
            "max_width": null,
            "min_height": null,
            "min_width": null,
            "object_fit": null,
            "object_position": null,
            "order": null,
            "overflow": null,
            "overflow_x": null,
            "overflow_y": null,
            "padding": null,
            "right": null,
            "top": null,
            "visibility": null,
            "width": "20px"
          }
        },
        "dfc0092e9a9c43379ddc09b121c26ed6": {
          "model_module": "@jupyter-widgets/base",
          "model_module_version": "1.2.0",
          "model_name": "LayoutModel",
          "state": {
            "_model_module": "@jupyter-widgets/base",
            "_model_module_version": "1.2.0",
            "_model_name": "LayoutModel",
            "_view_count": null,
            "_view_module": "@jupyter-widgets/base",
            "_view_module_version": "1.2.0",
            "_view_name": "LayoutView",
            "align_content": null,
            "align_items": null,
            "align_self": null,
            "border": null,
            "bottom": null,
            "display": null,
            "flex": null,
            "flex_flow": null,
            "grid_area": null,
            "grid_auto_columns": null,
            "grid_auto_flow": null,
            "grid_auto_rows": null,
            "grid_column": null,
            "grid_gap": null,
            "grid_row": null,
            "grid_template_areas": null,
            "grid_template_columns": null,
            "grid_template_rows": null,
            "height": null,
            "justify_content": null,
            "justify_items": null,
            "left": null,
            "margin": null,
            "max_height": null,
            "max_width": null,
            "min_height": null,
            "min_width": null,
            "object_fit": null,
            "object_position": null,
            "order": null,
            "overflow": null,
            "overflow_x": null,
            "overflow_y": null,
            "padding": null,
            "right": null,
            "top": null,
            "visibility": null,
            "width": null
          }
        },
        "e1b6e98d72134cf8a9142814fffed507": {
          "model_module": "@jupyter-widgets/controls",
          "model_module_version": "1.5.0",
          "model_name": "ProgressStyleModel",
          "state": {
            "_model_module": "@jupyter-widgets/controls",
            "_model_module_version": "1.5.0",
            "_model_name": "ProgressStyleModel",
            "_view_count": null,
            "_view_module": "@jupyter-widgets/base",
            "_view_module_version": "1.2.0",
            "_view_name": "StyleView",
            "bar_color": null,
            "description_width": ""
          }
        },
        "e644c5d1ba97403ba591a97c9b1dcb9b": {
          "model_module": "@jupyter-widgets/controls",
          "model_module_version": "1.5.0",
          "model_name": "ProgressStyleModel",
          "state": {
            "_model_module": "@jupyter-widgets/controls",
            "_model_module_version": "1.5.0",
            "_model_name": "ProgressStyleModel",
            "_view_count": null,
            "_view_module": "@jupyter-widgets/base",
            "_view_module_version": "1.2.0",
            "_view_name": "StyleView",
            "bar_color": null,
            "description_width": ""
          }
        },
        "eb85b4e2606e4cc79f3e540cc6fa9a78": {
          "model_module": "@jupyter-widgets/controls",
          "model_module_version": "1.5.0",
          "model_name": "DescriptionStyleModel",
          "state": {
            "_model_module": "@jupyter-widgets/controls",
            "_model_module_version": "1.5.0",
            "_model_name": "DescriptionStyleModel",
            "_view_count": null,
            "_view_module": "@jupyter-widgets/base",
            "_view_module_version": "1.2.0",
            "_view_name": "StyleView",
            "description_width": ""
          }
        },
        "eff3bf5d92fa4fd0ad9e102bab1d83d2": {
          "model_module": "@jupyter-widgets/controls",
          "model_module_version": "1.5.0",
          "model_name": "HTMLModel",
          "state": {
            "_dom_classes": [],
            "_model_module": "@jupyter-widgets/controls",
            "_model_module_version": "1.5.0",
            "_model_name": "HTMLModel",
            "_view_count": null,
            "_view_module": "@jupyter-widgets/controls",
            "_view_module_version": "1.5.0",
            "_view_name": "HTMLView",
            "description": "",
            "description_tooltip": null,
            "layout": "IPY_MODEL_f93f0ac2db0649979c0b65eed3d7ecdf",
            "placeholder": "​",
            "style": "IPY_MODEL_616c621c824947f3ace5f1ae84416473",
            "value": " 119734/0 [00:34&lt;00:00, 3458.09 examples/s]"
          }
        },
        "f6ea7314d30c44939e37a896acab8c43": {
          "model_module": "@jupyter-widgets/controls",
          "model_module_version": "1.5.0",
          "model_name": "DescriptionStyleModel",
          "state": {
            "_model_module": "@jupyter-widgets/controls",
            "_model_module_version": "1.5.0",
            "_model_name": "DescriptionStyleModel",
            "_view_count": null,
            "_view_module": "@jupyter-widgets/base",
            "_view_module_version": "1.2.0",
            "_view_name": "StyleView",
            "description_width": ""
          }
        },
        "f93f0ac2db0649979c0b65eed3d7ecdf": {
          "model_module": "@jupyter-widgets/base",
          "model_module_version": "1.2.0",
          "model_name": "LayoutModel",
          "state": {
            "_model_module": "@jupyter-widgets/base",
            "_model_module_version": "1.2.0",
            "_model_name": "LayoutModel",
            "_view_count": null,
            "_view_module": "@jupyter-widgets/base",
            "_view_module_version": "1.2.0",
            "_view_name": "LayoutView",
            "align_content": null,
            "align_items": null,
            "align_self": null,
            "border": null,
            "bottom": null,
            "display": null,
            "flex": null,
            "flex_flow": null,
            "grid_area": null,
            "grid_auto_columns": null,
            "grid_auto_flow": null,
            "grid_auto_rows": null,
            "grid_column": null,
            "grid_gap": null,
            "grid_row": null,
            "grid_template_areas": null,
            "grid_template_columns": null,
            "grid_template_rows": null,
            "height": null,
            "justify_content": null,
            "justify_items": null,
            "left": null,
            "margin": null,
            "max_height": null,
            "max_width": null,
            "min_height": null,
            "min_width": null,
            "object_fit": null,
            "object_position": null,
            "order": null,
            "overflow": null,
            "overflow_x": null,
            "overflow_y": null,
            "padding": null,
            "right": null,
            "top": null,
            "visibility": null,
            "width": null
          }
        },
        "fd561d6abe004835813af0b667201ad0": {
          "model_module": "@jupyter-widgets/controls",
          "model_module_version": "1.5.0",
          "model_name": "FloatProgressModel",
          "state": {
            "_dom_classes": [],
            "_model_module": "@jupyter-widgets/controls",
            "_model_module_version": "1.5.0",
            "_model_name": "FloatProgressModel",
            "_view_count": null,
            "_view_module": "@jupyter-widgets/controls",
            "_view_module_version": "1.5.0",
            "_view_name": "ProgressView",
            "bar_style": "success",
            "description": "",
            "description_tooltip": null,
            "layout": "IPY_MODEL_97be00500fdd459586a4a586c889db15",
            "max": 1,
            "min": 0,
            "orientation": "horizontal",
            "style": "IPY_MODEL_e644c5d1ba97403ba591a97c9b1dcb9b",
            "value": 1
          }
        }
      }
    }
  },
  "nbformat": 4,
  "nbformat_minor": 0
}
